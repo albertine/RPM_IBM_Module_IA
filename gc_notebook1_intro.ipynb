{
  "nbformat": 4,
  "nbformat_minor": 0,
  "metadata": {
    "ipub": {
      "customcss": "fitch.css",
      "titlepage": {
        "author": "(c) Steve Phelps 2019",
        "email": "sphelps@sphelps.net",
        "logo": "figs/fitch-logo.jpeg",
        "title": "Scientific Computing for Finance using Python"
      }
    },
    "kernelspec": {
      "display_name": "Python 3",
      "language": "python",
      "name": "python3"
    },
    "language_info": {
      "codemirror_mode": {
        "name": "ipython",
        "version": 3
      },
      "file_extension": ".py",
      "mimetype": "text/x-python",
      "name": "python",
      "nbconvert_exporter": "python",
      "pygments_lexer": "ipython3",
      "version": "3.5.2"
    },
    "latex_metadata": {
      "chapter": {
        "setcounter": 2
      },
      "title": "Overview of Python"
    },
    "toc": {
      "base_numbering": "1",
      "nav_menu": {},
      "number_sections": true,
      "sideBar": true,
      "skip_h1_title": false,
      "title_cell": "Table of Contents",
      "title_sidebar": "Contents",
      "toc_cell": false,
      "toc_position": {
        "height": "calc(100% - 180px)",
        "left": "10px",
        "top": "150px",
        "width": "295.4px"
      },
      "toc_section_display": true,
      "toc_window_display": true
    },
    "toc-autonumbering": true,
    "toc-showmarkdowntxt": true,
    "toc-showtags": false,
    "colab": {
      "name": "notebook1-intro.ipynb",
      "provenance": [],
      "collapsed_sections": [
        "pScFv_92JOZE"
      ]
    }
  },
  "cells": [
    {
      "cell_type": "markdown",
      "metadata": {
        "toc-hr-collapsed": false,
        "id": "lAQIGxRdJOS6",
        "colab_type": "text"
      },
      "source": [
        "# Overview of Python (1)"
      ]
    },
    {
      "cell_type": "markdown",
      "metadata": {
        "id": "JTaist_WJOS-",
        "colab_type": "text"
      },
      "source": [
        "\"Portable, powerful, and a breeze to use\", Python is a popular, open-source programming language used for both scripting applications and standalone programs. Python can be used to do pretty much anything."
      ]
    },
    {
      "cell_type": "markdown",
      "metadata": {
        "id": "qL9q5AvOJOTC",
        "colab_type": "text"
      },
      "source": [
        "## Python is interpreted\n",
        "\n",
        "- Python is an _interpreted_ language, in contrast to Java and C which are compiled languages.\n",
        "\n",
        "- This means we can type statements into the interpreter and they are executed immediately.\n",
        "\n",
        "- Thus, you can use Python as a calculator. Position your cursor in the code cells below and hit [shift][enter].\n"
      ]
    },
    {
      "cell_type": "code",
      "metadata": {
        "id": "a2dqF3WZJOTF",
        "colab_type": "code",
        "colab": {}
      },
      "source": [
        "5 + 5"
      ],
      "execution_count": 0,
      "outputs": []
    },
    {
      "cell_type": "markdown",
      "metadata": {
        "id": "OgZrb-QMJOTS",
        "colab_type": "text"
      },
      "source": [
        "- Groups of statements are all executed one after the other:"
      ]
    },
    {
      "cell_type": "code",
      "metadata": {
        "id": "-__MDXuzJOTU",
        "colab_type": "code",
        "colab": {}
      },
      "source": [
        "x = 5\n",
        "y = 'Hello There'\n",
        "z = 10.5"
      ],
      "execution_count": 0,
      "outputs": []
    },
    {
      "cell_type": "code",
      "metadata": {
        "id": "YSscYXqHJOTb",
        "colab_type": "code",
        "colab": {}
      },
      "source": [
        "x + 5"
      ],
      "execution_count": 0,
      "outputs": []
    },
    {
      "cell_type": "markdown",
      "metadata": {
        "id": "xE_-VHo0JOTj",
        "colab_type": "text"
      },
      "source": [
        "## Assignments versus equations\n",
        "\n",
        "- In Python when we write `x = 5` this means something different from an equation $x=5$.\n",
        "\n",
        "- Unlike variables in mathematical models, variables in Python can refer to different things as more statements are interpreted.\n"
      ]
    },
    {
      "cell_type": "code",
      "metadata": {
        "id": "8Wi6DEuLJOTl",
        "colab_type": "code",
        "colab": {}
      },
      "source": [
        "x = 1\n",
        "print('The value of x is', x)\n",
        "\n",
        "x = 2.5\n",
        "print('Now the value of x is', x)\n",
        "\n",
        "x = 'hello there'\n",
        "print('Now it is ', x)"
      ],
      "execution_count": 0,
      "outputs": []
    },
    {
      "cell_type": "markdown",
      "metadata": {
        "id": "piS434XtJOTr",
        "colab_type": "text"
      },
      "source": [
        "## Calling Functions\n",
        "\n",
        "We can call functions in a conventional way using round brackets"
      ]
    },
    {
      "cell_type": "code",
      "metadata": {
        "id": "s7phtEa2JOTu",
        "colab_type": "code",
        "colab": {}
      },
      "source": [
        "round(3.14)"
      ],
      "execution_count": 0,
      "outputs": []
    },
    {
      "cell_type": "markdown",
      "metadata": {
        "id": "RWOQz3KvJOT0",
        "colab_type": "text"
      },
      "source": [
        "## Types\n",
        "\n",
        "- Values in Python have an associated _type_.\n",
        "\n",
        "- If we combine types incorrectly we get an error."
      ]
    },
    {
      "cell_type": "code",
      "metadata": {
        "id": "08qAAwjhJOT2",
        "colab_type": "code",
        "colab": {}
      },
      "source": [
        "print(y)"
      ],
      "execution_count": 0,
      "outputs": []
    },
    {
      "cell_type": "code",
      "metadata": {
        "id": "hq3a1cRjJOT8",
        "colab_type": "code",
        "colab": {}
      },
      "source": [
        "y + 5"
      ],
      "execution_count": 0,
      "outputs": []
    },
    {
      "cell_type": "markdown",
      "metadata": {
        "id": "zs6NRgJfJOUC",
        "colab_type": "text"
      },
      "source": [
        "## The type function\n",
        "\n",
        "- We can query the type of a value using the `type` function."
      ]
    },
    {
      "cell_type": "code",
      "metadata": {
        "id": "lQN7ctyQJOUE",
        "colab_type": "code",
        "colab": {}
      },
      "source": [
        "type(1)"
      ],
      "execution_count": 0,
      "outputs": []
    },
    {
      "cell_type": "code",
      "metadata": {
        "id": "3F58JSofJOUK",
        "colab_type": "code",
        "colab": {}
      },
      "source": [
        "type('hello')"
      ],
      "execution_count": 0,
      "outputs": []
    },
    {
      "cell_type": "code",
      "metadata": {
        "id": "KI700QUbJOUR",
        "colab_type": "code",
        "colab": {}
      },
      "source": [
        "type(2.5)"
      ],
      "execution_count": 0,
      "outputs": []
    },
    {
      "cell_type": "code",
      "metadata": {
        "id": "AzUNzVkkJOUX",
        "colab_type": "code",
        "colab": {}
      },
      "source": [
        "type(True)"
      ],
      "execution_count": 0,
      "outputs": []
    },
    {
      "cell_type": "markdown",
      "metadata": {
        "id": "t5qznXzFJOUb",
        "colab_type": "text"
      },
      "source": [
        "## Converting values between types\n",
        "\n",
        "- We can convert values between different types.\n",
        "\n",
        "### Converting to floating-point\n",
        "\n",
        "- To convert an integer to a floating-point number use the `float()` function.\n"
      ]
    },
    {
      "cell_type": "code",
      "metadata": {
        "id": "h4TksX44JOUc",
        "colab_type": "code",
        "colab": {}
      },
      "source": [
        "x = 1\n",
        "x"
      ],
      "execution_count": 0,
      "outputs": []
    },
    {
      "cell_type": "code",
      "metadata": {
        "id": "OUOCDpGMJOUk",
        "colab_type": "code",
        "colab": {}
      },
      "source": [
        "type(x)"
      ],
      "execution_count": 0,
      "outputs": []
    },
    {
      "cell_type": "code",
      "metadata": {
        "id": "ZiksYBdoJOUo",
        "colab_type": "code",
        "colab": {}
      },
      "source": [
        "y = float(x)\n",
        "y"
      ],
      "execution_count": 0,
      "outputs": []
    },
    {
      "cell_type": "markdown",
      "metadata": {
        "id": "FB88Dh3BJOUu",
        "colab_type": "text"
      },
      "source": [
        "### Converting to integers\n",
        "\n",
        "- To convert a floating-point to an integer use the `int()` function."
      ]
    },
    {
      "cell_type": "code",
      "metadata": {
        "id": "5N8aOm-nJOUv",
        "colab_type": "code",
        "colab": {}
      },
      "source": [
        "type(y)"
      ],
      "execution_count": 0,
      "outputs": []
    },
    {
      "cell_type": "code",
      "metadata": {
        "id": "vJmJBX4mJOU0",
        "colab_type": "code",
        "colab": {}
      },
      "source": [
        "int(y)"
      ],
      "execution_count": 0,
      "outputs": []
    },
    {
      "cell_type": "markdown",
      "metadata": {
        "id": "lVwgmWKvJOU4",
        "colab_type": "text"
      },
      "source": [
        "## Variables are not typed\n",
        "\n",
        "- _Variables_ themselves, on the other hand, do not have a fixed type.\n",
        "- It is only the values that they refer to that have a type.\n",
        "- This means that the type referred to by a variable can change as more statements are interpreted.\n"
      ]
    },
    {
      "cell_type": "code",
      "metadata": {
        "id": "XDxTCVbLJOU5",
        "colab_type": "code",
        "colab": {}
      },
      "source": [
        "y = 'hello'\n",
        "print('The type of the value referred to by y is ', type(y))\n",
        "y = 5.0\n",
        "print('And now the type of the value is ', type(y))"
      ],
      "execution_count": 0,
      "outputs": []
    },
    {
      "cell_type": "markdown",
      "metadata": {
        "toc-hr-collapsed": false,
        "id": "ZwHm_qP8JOU-",
        "colab_type": "text"
      },
      "source": [
        "## Polymorphism\n",
        "\n",
        "- The meaning of an operator depends on the types we are applying it to.\n",
        "\n"
      ]
    },
    {
      "cell_type": "code",
      "metadata": {
        "id": "zW_F4dnIJOU_",
        "colab_type": "code",
        "colab": {}
      },
      "source": [
        "1 + 1"
      ],
      "execution_count": 0,
      "outputs": []
    },
    {
      "cell_type": "code",
      "metadata": {
        "id": "fh3G0SzgJOVE",
        "colab_type": "code",
        "colab": {}
      },
      "source": [
        "'a' + 'b'"
      ],
      "execution_count": 0,
      "outputs": []
    },
    {
      "cell_type": "code",
      "metadata": {
        "id": "QNcOC6aRJOVI",
        "colab_type": "code",
        "colab": {}
      },
      "source": [
        "'1' + '1'"
      ],
      "execution_count": 0,
      "outputs": []
    },
    {
      "cell_type": "markdown",
      "metadata": {
        "id": "CcnSV41PJOVR",
        "colab_type": "text"
      },
      "source": [
        "### <a name=\"ex1\"></a> Exercise 1, First Python code\n",
        "Compute the value of the polynomial $y=ax^2+bx+c$ at $x=-2$, $x=0$, and $x=2.1$ using $a=1$, $b=1$, $c=-6$ and print the results to the screen."
      ]
    },
    {
      "cell_type": "code",
      "metadata": {
        "id": "ycMhyU8CJOVT",
        "colab_type": "code",
        "colab": {}
      },
      "source": [
        ""
      ],
      "execution_count": 0,
      "outputs": []
    },
    {
      "cell_type": "markdown",
      "metadata": {
        "id": "HVAonO9DJOVX",
        "colab_type": "text"
      },
      "source": [
        "<a href=\"#ex1answer\">Answer to Exercise 1</a>"
      ]
    },
    {
      "cell_type": "markdown",
      "metadata": {
        "toc-hr-collapsed": false,
        "id": "XsS9c3TRJOVY",
        "colab_type": "text"
      },
      "source": [
        "## Conditional Statements and Indentation\n"
      ]
    },
    {
      "cell_type": "markdown",
      "metadata": {
        "id": "tjDqkr2NJOVZ",
        "colab_type": "text"
      },
      "source": [
        "- The syntax for control structures in Python uses _colons_ and _indentation_.\n",
        "\n",
        "- Beware that white-space affects the semantics of Python code.\n",
        "\n",
        "- Statements that are indented using the Tab key are grouped together."
      ]
    },
    {
      "cell_type": "markdown",
      "metadata": {
        "id": "Xgtn5Nr6JOVZ",
        "colab_type": "text"
      },
      "source": [
        "### `if` statements"
      ]
    },
    {
      "cell_type": "code",
      "metadata": {
        "id": "DcXyZYWLJOVa",
        "colab_type": "code",
        "colab": {}
      },
      "source": [
        "x = 5\n",
        "if x > 0:\n",
        "    print('x is strictly positive.')\n",
        "    print(x)\n",
        "    \n",
        "print('finished.')"
      ],
      "execution_count": 0,
      "outputs": []
    },
    {
      "cell_type": "markdown",
      "metadata": {
        "id": "CmICufcCJOVf",
        "colab_type": "text"
      },
      "source": [
        "### Changing indentation "
      ]
    },
    {
      "cell_type": "code",
      "metadata": {
        "id": "m51vMOdwJOVg",
        "colab_type": "code",
        "colab": {}
      },
      "source": [
        "x = 0\n",
        "if x > 0:\n",
        "    print('x is strictly positive.')\n",
        "print(x)\n",
        "    \n",
        "print('finished.')"
      ],
      "execution_count": 0,
      "outputs": []
    },
    {
      "cell_type": "markdown",
      "metadata": {
        "id": "x2G6i4QAJOVn",
        "colab_type": "text"
      },
      "source": [
        "### `if` and `else`"
      ]
    },
    {
      "cell_type": "code",
      "metadata": {
        "id": "A4ihHeL3JOVp",
        "colab_type": "code",
        "colab": {}
      },
      "source": [
        "x = 0\n",
        "print('Starting.')\n",
        "if x > 0:\n",
        "    print('x is strictly positive.')\n",
        "else:\n",
        "    if x < 0:\n",
        "        print('x is strictly negative.')\n",
        "    else:\n",
        "        print('x is zero.')\n",
        "print('finished.')"
      ],
      "execution_count": 0,
      "outputs": []
    },
    {
      "cell_type": "markdown",
      "metadata": {
        "id": "LxLm7-ShJOVt",
        "colab_type": "text"
      },
      "source": [
        "### `elif`"
      ]
    },
    {
      "cell_type": "code",
      "metadata": {
        "id": "XlepGXeqJOVt",
        "colab_type": "code",
        "colab": {}
      },
      "source": [
        "print('Starting.')\n",
        "if x > 0:\n",
        "    print('x is strictly positive')\n",
        "elif x < 0:\n",
        "    print('x is strictly negative')\n",
        "else:\n",
        "    print('x is zero')\n",
        "print('finished.')"
      ],
      "execution_count": 0,
      "outputs": []
    },
    {
      "cell_type": "markdown",
      "metadata": {
        "id": "be-8k_VFJOVx",
        "colab_type": "text"
      },
      "source": [
        "## Lists\n",
        "\n"
      ]
    },
    {
      "cell_type": "markdown",
      "metadata": {
        "id": "-5ZL0VIuJOVz",
        "colab_type": "text"
      },
      "source": [
        "We can use _lists_ to hold an ordered sequence of values."
      ]
    },
    {
      "cell_type": "code",
      "metadata": {
        "id": "Vr1w2aCvJOV0",
        "colab_type": "code",
        "colab": {}
      },
      "source": [
        "l = ['first', 'second', 'third']\n",
        "l"
      ],
      "execution_count": 0,
      "outputs": []
    },
    {
      "cell_type": "markdown",
      "metadata": {
        "id": "eLoRCGyFJOV4",
        "colab_type": "text"
      },
      "source": [
        "Lists can contain different types of variable, even in the same list."
      ]
    },
    {
      "cell_type": "code",
      "metadata": {
        "id": "zK9DMaQUJOV5",
        "colab_type": "code",
        "colab": {}
      },
      "source": [
        "another_list = ['first', 'second', 'third', 1, 2, 3]\n",
        "another_list"
      ],
      "execution_count": 0,
      "outputs": []
    },
    {
      "cell_type": "markdown",
      "metadata": {
        "toc-hr-collapsed": true,
        "toc-nb-collapsed": true,
        "id": "nnaTZELoJOV8",
        "colab_type": "text"
      },
      "source": [
        "## Mutable Datastructures"
      ]
    },
    {
      "cell_type": "markdown",
      "metadata": {
        "id": "V33au4ekJOV8",
        "colab_type": "text"
      },
      "source": [
        "Lists are _mutable_; their contents can change as more statements are interpreted."
      ]
    },
    {
      "cell_type": "code",
      "metadata": {
        "id": "la6ODTvaJOV9",
        "colab_type": "code",
        "colab": {}
      },
      "source": [
        "l.append('fourth')\n",
        "l"
      ],
      "execution_count": 0,
      "outputs": []
    },
    {
      "cell_type": "markdown",
      "metadata": {
        "toc-hr-collapsed": true,
        "toc-nb-collapsed": true,
        "id": "YvYUrzuJJOWA",
        "colab_type": "text"
      },
      "source": [
        "## References\n",
        "\n",
        "- Whenever we bind a variable to a value in Python we create a *reference*.\n",
        "\n",
        "- A reference is distinct from the value that it refers to.\n",
        "\n",
        "- Variables are names for references.\n"
      ]
    },
    {
      "cell_type": "code",
      "metadata": {
        "id": "zNtQtrnRJOWB",
        "colab_type": "code",
        "colab": {}
      },
      "source": [
        "X = [1, 2, 3]\n",
        "Y = X"
      ],
      "execution_count": 0,
      "outputs": []
    },
    {
      "cell_type": "markdown",
      "metadata": {
        "id": "_TERMpGzJOWD",
        "colab_type": "text"
      },
      "source": [
        "### Side effects"
      ]
    },
    {
      "cell_type": "markdown",
      "metadata": {
        "id": "HPCCMYJnJOWE",
        "colab_type": "text"
      },
      "source": [
        "- The above code creates two different references (named `X` and `Y`) to the *same* value `[1, 2, 3]`\n",
        "\n",
        "- Because lists are mutable, changing them can have side-effects on other variables.\n",
        "\n",
        "- If we append something to `X` what will happen to `Y`?"
      ]
    },
    {
      "cell_type": "code",
      "metadata": {
        "id": "VsVLOvmhJOWF",
        "colab_type": "code",
        "colab": {}
      },
      "source": [
        "X.append(4)\n",
        "X"
      ],
      "execution_count": 0,
      "outputs": []
    },
    {
      "cell_type": "code",
      "metadata": {
        "id": "3igOgvXxJOWI",
        "colab_type": "code",
        "colab": {}
      },
      "source": [
        "Y"
      ],
      "execution_count": 0,
      "outputs": []
    },
    {
      "cell_type": "markdown",
      "metadata": {
        "id": "FgkB-CKwJOWM",
        "colab_type": "text"
      },
      "source": [
        "## State and identity\n",
        "\n",
        "- The state referred to by a variable is *different* from its identity.\n",
        "\n",
        "- To compare *state* use the `==` operator.\n",
        "\n",
        "- To compare *identity* use the `is` operator.\n",
        "\n",
        "- When we compare identity we check equality of references.\n",
        "\n",
        "- When we compare state we check equality of values.\n"
      ]
    },
    {
      "cell_type": "markdown",
      "metadata": {
        "id": "Mp-t3foIJOWN",
        "colab_type": "text"
      },
      "source": [
        "### Example\n",
        "\n",
        "- We will create two *different* lists, with two associated variables."
      ]
    },
    {
      "cell_type": "code",
      "metadata": {
        "id": "FqWpI9lIJOWN",
        "colab_type": "code",
        "colab": {}
      },
      "source": [
        "X = [1, 2]\n",
        "Y = [1]\n",
        "Y.append(2)"
      ],
      "execution_count": 0,
      "outputs": []
    },
    {
      "cell_type": "markdown",
      "metadata": {
        "id": "WzyS3xuVJOWR",
        "colab_type": "text"
      },
      "source": [
        "### Comparing state"
      ]
    },
    {
      "cell_type": "code",
      "metadata": {
        "id": "pfB_q3BuJOWS",
        "colab_type": "code",
        "colab": {}
      },
      "source": [
        "X"
      ],
      "execution_count": 0,
      "outputs": []
    },
    {
      "cell_type": "code",
      "metadata": {
        "id": "HNlBOxGYJOWX",
        "colab_type": "code",
        "colab": {}
      },
      "source": [
        "Y"
      ],
      "execution_count": 0,
      "outputs": []
    },
    {
      "cell_type": "code",
      "metadata": {
        "id": "_cjRt1EyJOWb",
        "colab_type": "code",
        "colab": {}
      },
      "source": [
        "X == Y"
      ],
      "execution_count": 0,
      "outputs": []
    },
    {
      "cell_type": "markdown",
      "metadata": {
        "id": "ARnmZ394JOWd",
        "colab_type": "text"
      },
      "source": [
        "### Comparing identity"
      ]
    },
    {
      "cell_type": "code",
      "metadata": {
        "id": "xx5vuuVYJOWf",
        "colab_type": "code",
        "colab": {}
      },
      "source": [
        "X is Y"
      ],
      "execution_count": 0,
      "outputs": []
    },
    {
      "cell_type": "markdown",
      "metadata": {
        "id": "egFz8xzmJOWh",
        "colab_type": "text"
      },
      "source": [
        "### Copying data prevents side effects\n",
        "\n",
        "- In this example, because we have two different lists we avoid side effects"
      ]
    },
    {
      "cell_type": "code",
      "metadata": {
        "id": "qkLZ8Lp7JOWh",
        "colab_type": "code",
        "colab": {}
      },
      "source": [
        "Y.append(3)\n",
        "X\n"
      ],
      "execution_count": 0,
      "outputs": []
    },
    {
      "cell_type": "code",
      "metadata": {
        "id": "0fIWhXoxJOWm",
        "colab_type": "code",
        "colab": {}
      },
      "source": [
        "X == Y"
      ],
      "execution_count": 0,
      "outputs": []
    },
    {
      "cell_type": "code",
      "metadata": {
        "id": "QPDTLH6nJOWo",
        "colab_type": "code",
        "colab": {}
      },
      "source": [
        "X is Y"
      ],
      "execution_count": 0,
      "outputs": []
    },
    {
      "cell_type": "markdown",
      "metadata": {
        "toc-hr-collapsed": true,
        "toc-nb-collapsed": true,
        "id": "oEOe4Gb7JOWr",
        "colab_type": "text"
      },
      "source": [
        "## Iteration\n",
        "\n",
        "- We can iterate over each element of a list in turn using a `for` loop:\n"
      ]
    },
    {
      "cell_type": "code",
      "metadata": {
        "id": "DRqgngO5JOWs",
        "colab_type": "code",
        "colab": {}
      },
      "source": [
        "my_list = ['first', 'second', 'third', 'fourth']\n",
        "for i in my_list:\n",
        "    print(i)"
      ],
      "execution_count": 0,
      "outputs": []
    },
    {
      "cell_type": "markdown",
      "metadata": {
        "id": "5mFEbrWuJOWu",
        "colab_type": "text"
      },
      "source": [
        "### Including more than one statement inside the loop"
      ]
    },
    {
      "cell_type": "code",
      "metadata": {
        "id": "oQhxT5lIJOWv",
        "colab_type": "code",
        "colab": {}
      },
      "source": [
        "my_list = ['first', 'second', 'third', 'fourth']\n",
        "for i in my_list:\n",
        "    print(\"The next item is:\")\n",
        "    print(i)\n",
        "    print()"
      ],
      "execution_count": 0,
      "outputs": []
    },
    {
      "cell_type": "markdown",
      "metadata": {
        "id": "AdhdnPAbJOWx",
        "colab_type": "text"
      },
      "source": [
        "### Looping a specified number of times"
      ]
    },
    {
      "cell_type": "markdown",
      "metadata": {
        "id": "iQuahrWPJOWy",
        "colab_type": "text"
      },
      "source": [
        "- To perform a statement a certain number of times, we can iterate over a list of the required size."
      ]
    },
    {
      "cell_type": "code",
      "metadata": {
        "id": "OQU0_7KiJOWz",
        "colab_type": "code",
        "colab": {}
      },
      "source": [
        "for i in [0, 1, 2, 3]:\n",
        "    print(\"Hello!\")"
      ],
      "execution_count": 0,
      "outputs": []
    },
    {
      "cell_type": "markdown",
      "metadata": {
        "id": "3FkLjFfoJOW3",
        "colab_type": "text"
      },
      "source": [
        "### The `range` function\n",
        "\n",
        "- To save from having to manually write the numbers out, we can use the function `range()` to count for us.  \n",
        "\n",
        "- We count starting at 0 (as in Java and C++)."
      ]
    },
    {
      "cell_type": "code",
      "metadata": {
        "id": "KAFVEnVdJOW4",
        "colab_type": "code",
        "colab": {}
      },
      "source": [
        "list(range(4))"
      ],
      "execution_count": 0,
      "outputs": []
    },
    {
      "cell_type": "markdown",
      "metadata": {
        "id": "_TDQGHnMJOW7",
        "colab_type": "text"
      },
      "source": [
        "### `for` loops with the `range` function"
      ]
    },
    {
      "cell_type": "code",
      "metadata": {
        "id": "wlW6R2W8JOW-",
        "colab_type": "code",
        "colab": {}
      },
      "source": [
        "for i in range(4):\n",
        "    print(\"Hello!\")"
      ],
      "execution_count": 0,
      "outputs": []
    },
    {
      "cell_type": "markdown",
      "metadata": {
        "id": "FilpvcjbJOXB",
        "colab_type": "text"
      },
      "source": [
        "### <a name=\"ex2\"></a> Exercise 2, First loop"
      ]
    },
    {
      "cell_type": "markdown",
      "metadata": {
        "id": "2QHLwKGkJOXC",
        "colab_type": "text"
      },
      "source": [
        "- Make a list named `week` containing the names of the seven days of the week.\n",
        "\n",
        "- Using a `for` loop, print each day of the week together with these associated messages:\n",
        "\n",
        " - \"At work\", if it is monday to thursday\n",
        " - \"Oh yeah it's friday\", if it is friday\n",
        " - \"At rest this weekend\", if it is saturday or sunday"
      ]
    },
    {
      "cell_type": "code",
      "metadata": {
        "id": "-rvvKYstJOXD",
        "colab_type": "code",
        "colab": {}
      },
      "source": [
        ""
      ],
      "execution_count": 0,
      "outputs": []
    },
    {
      "cell_type": "markdown",
      "metadata": {
        "id": "17BpSsd4JOXF",
        "colab_type": "text"
      },
      "source": [
        "<a href=\"#ex2answer\">Answer to Exercise 2</a>"
      ]
    },
    {
      "cell_type": "markdown",
      "metadata": {
        "id": "ini7pWpkJOXF",
        "colab_type": "text"
      },
      "source": [
        "## List Indexing\n",
        "\n",
        "- Lists can be indexed using square brackets to retrieve the element stored in a particular position.\n",
        "\n",
        "\n",
        "\n"
      ]
    },
    {
      "cell_type": "code",
      "metadata": {
        "id": "e8n-oHusJOXH",
        "colab_type": "code",
        "colab": {}
      },
      "source": [
        "my_list"
      ],
      "execution_count": 0,
      "outputs": []
    },
    {
      "cell_type": "code",
      "metadata": {
        "id": "ueJj3jYZJOXJ",
        "colab_type": "code",
        "colab": {}
      },
      "source": [
        "my_list[0]"
      ],
      "execution_count": 0,
      "outputs": []
    },
    {
      "cell_type": "code",
      "metadata": {
        "id": "Xt6c89ngJOXL",
        "colab_type": "code",
        "colab": {}
      },
      "source": [
        "my_list[1]"
      ],
      "execution_count": 0,
      "outputs": []
    },
    {
      "cell_type": "markdown",
      "metadata": {
        "id": "N0QND5NOJOXO",
        "colab_type": "text"
      },
      "source": [
        "## List Slicing\n",
        "\n",
        "- We can also a specify a _range_ of positions.  \n",
        "\n",
        "- This is called _slicing_.\n",
        "\n",
        "- The example below indexes from position 0 (inclusive) to 2 (exclusive).\n",
        "\n"
      ]
    },
    {
      "cell_type": "code",
      "metadata": {
        "id": "UeKlpTJ0JOXO",
        "colab_type": "code",
        "colab": {}
      },
      "source": [
        "my_list[0:2]"
      ],
      "execution_count": 0,
      "outputs": []
    },
    {
      "cell_type": "markdown",
      "metadata": {
        "id": "o8EJ8_pJJOXR",
        "colab_type": "text"
      },
      "source": [
        "### Indexing from the start or end"
      ]
    },
    {
      "cell_type": "markdown",
      "metadata": {
        "id": "4t1xIyq5JOXS",
        "colab_type": "text"
      },
      "source": [
        "- If we leave out the starting index it implies the beginning of the list:\n",
        "\n"
      ]
    },
    {
      "cell_type": "code",
      "metadata": {
        "id": "3Gd9myeyJOXT",
        "colab_type": "code",
        "colab": {}
      },
      "source": [
        "my_list[:2]"
      ],
      "execution_count": 0,
      "outputs": []
    },
    {
      "cell_type": "markdown",
      "metadata": {
        "id": "IWyH6Ui3JOXX",
        "colab_type": "text"
      },
      "source": [
        "- If we leave out the final index it implies the end of the list:"
      ]
    },
    {
      "cell_type": "code",
      "metadata": {
        "id": "zOsbAV__JOXY",
        "colab_type": "code",
        "colab": {}
      },
      "source": [
        "my_list[2:]"
      ],
      "execution_count": 0,
      "outputs": []
    },
    {
      "cell_type": "markdown",
      "metadata": {
        "id": "zCMS2MzJJOXb",
        "colab_type": "text"
      },
      "source": [
        "#### Copying a list\n",
        "\n",
        "- We can conveniently copy a list by indexing from start to end:\n"
      ]
    },
    {
      "cell_type": "code",
      "metadata": {
        "id": "2vIadbLMJOXc",
        "colab_type": "code",
        "colab": {}
      },
      "source": [
        "new_list = my_list[:]"
      ],
      "execution_count": 0,
      "outputs": []
    },
    {
      "cell_type": "code",
      "metadata": {
        "id": "9X8M1ubtJOXd",
        "colab_type": "code",
        "colab": {}
      },
      "source": [
        "new_list"
      ],
      "execution_count": 0,
      "outputs": []
    },
    {
      "cell_type": "code",
      "metadata": {
        "id": "XoCx2e8uJOXf",
        "colab_type": "code",
        "colab": {}
      },
      "source": [
        "new_list is my_list"
      ],
      "execution_count": 0,
      "outputs": []
    },
    {
      "cell_type": "code",
      "metadata": {
        "id": "kf14mEWfJOXi",
        "colab_type": "code",
        "colab": {}
      },
      "source": [
        "new_list == my_list"
      ],
      "execution_count": 0,
      "outputs": []
    },
    {
      "cell_type": "markdown",
      "metadata": {
        "id": "V4ryf9gvJOXk",
        "colab_type": "text"
      },
      "source": [
        "## Negative Indexing\n",
        "\n",
        "- Negative indices count from the end of the list:\n",
        "\n"
      ]
    },
    {
      "cell_type": "code",
      "metadata": {
        "id": "f8vd7daNJOXy",
        "colab_type": "code",
        "colab": {}
      },
      "source": [
        "my_list[-1]"
      ],
      "execution_count": 0,
      "outputs": []
    },
    {
      "cell_type": "code",
      "metadata": {
        "id": "IZbcLlWXJOX2",
        "colab_type": "code",
        "colab": {}
      },
      "source": [
        "my_list[:-1]"
      ],
      "execution_count": 0,
      "outputs": []
    },
    {
      "cell_type": "markdown",
      "metadata": {
        "toc-hr-collapsed": false,
        "id": "QIsjpu3sJOX4",
        "colab_type": "text"
      },
      "source": [
        "## Collections\n",
        "\n",
        "- Lists are an example of a *collection*.\n",
        "\n",
        "- A collection is a type of value that can contain other values.\n",
        "\n",
        "- There are other collection types in Python:\n",
        "\n",
        "    - `tuple`\n",
        "    - `set`\n",
        "    - `dict`"
      ]
    },
    {
      "cell_type": "markdown",
      "metadata": {
        "id": "R5SgM11IJOX5",
        "colab_type": "text"
      },
      "source": [
        "### Tuples\n",
        "\n",
        "- Tuples are another way to combine different values.\n",
        "\n",
        "- The combined values can be of different types.\n",
        "\n",
        "- Like lists, they have a well-defined ordering and can be indexed.\n",
        "\n",
        "- To create a tuple in Python, use round brackets instead of square brackets"
      ]
    },
    {
      "cell_type": "code",
      "metadata": {
        "id": "MKoaBY1eJOX5",
        "colab_type": "code",
        "colab": {}
      },
      "source": [
        "tuple1 = (50, 'hello')\n",
        "tuple1"
      ],
      "execution_count": 0,
      "outputs": []
    },
    {
      "cell_type": "code",
      "metadata": {
        "id": "_Y6KIJ2eJOX7",
        "colab_type": "code",
        "colab": {}
      },
      "source": [
        "tuple1[0]"
      ],
      "execution_count": 0,
      "outputs": []
    },
    {
      "cell_type": "code",
      "metadata": {
        "id": "LgxOPFVLJOX-",
        "colab_type": "code",
        "colab": {}
      },
      "source": [
        "type(tuple1)"
      ],
      "execution_count": 0,
      "outputs": []
    },
    {
      "cell_type": "markdown",
      "metadata": {
        "id": "9pk0YmPrJOYC",
        "colab_type": "text"
      },
      "source": [
        "#### Tuples are immutable\n",
        "\n",
        "- Unlike lists, tuples are *immutable*.  Once we have created a tuple we cannot add values to it.\n",
        "\n"
      ]
    },
    {
      "cell_type": "code",
      "metadata": {
        "id": "ZY172UxpJOYD",
        "colab_type": "code",
        "colab": {}
      },
      "source": [
        "tuple1.append(2)"
      ],
      "execution_count": 0,
      "outputs": []
    },
    {
      "cell_type": "markdown",
      "metadata": {
        "id": "a32LNDUhJOYF",
        "colab_type": "text"
      },
      "source": [
        "### Sets\n",
        "\n",
        "- Lists can contain duplicate values.\n",
        "\n",
        "- A set, in contrast, contains no duplicates.\n",
        "\n",
        "- Sets can be created from lists using the `set()` function.\n",
        "\n",
        "\n"
      ]
    },
    {
      "cell_type": "code",
      "metadata": {
        "id": "ZFWDSijyJOYF",
        "colab_type": "code",
        "colab": {}
      },
      "source": [
        "X = set([1, 2, 3, 3, 4])\n",
        "X"
      ],
      "execution_count": 0,
      "outputs": []
    },
    {
      "cell_type": "code",
      "metadata": {
        "id": "3QZE-QA-JOYI",
        "colab_type": "code",
        "colab": {}
      },
      "source": [
        "type(X)"
      ],
      "execution_count": 0,
      "outputs": []
    },
    {
      "cell_type": "markdown",
      "metadata": {
        "id": "Gb8nlmBWJOYK",
        "colab_type": "text"
      },
      "source": [
        "- Alternatively we can write a set literal using the `{` and `}` brackets."
      ]
    },
    {
      "cell_type": "code",
      "metadata": {
        "id": "AdHtNDwQJOYK",
        "colab_type": "code",
        "colab": {}
      },
      "source": [
        "X = {1, 2, 3, 4}\n",
        "type(X)"
      ],
      "execution_count": 0,
      "outputs": []
    },
    {
      "cell_type": "markdown",
      "metadata": {
        "id": "fszjzQzEJOYN",
        "colab_type": "text"
      },
      "source": [
        "#### Sets are mutable\n",
        "\n",
        "- Sets are mutable like lists:"
      ]
    },
    {
      "cell_type": "code",
      "metadata": {
        "id": "33Hl7dhLJOYO",
        "colab_type": "code",
        "colab": {}
      },
      "source": [
        "X.add(5)\n",
        "X"
      ],
      "execution_count": 0,
      "outputs": []
    },
    {
      "cell_type": "markdown",
      "metadata": {
        "id": "H35qeqGiJOYP",
        "colab_type": "text"
      },
      "source": [
        "- Duplicates are automatically removed"
      ]
    },
    {
      "cell_type": "code",
      "metadata": {
        "id": "Sfzmz9m2JOYP",
        "colab_type": "code",
        "colab": {}
      },
      "source": [
        "X.add(5)\n",
        "X\n"
      ],
      "execution_count": 0,
      "outputs": []
    },
    {
      "cell_type": "markdown",
      "metadata": {
        "id": "ya1HXcBZJOYS",
        "colab_type": "text"
      },
      "source": [
        "#### Sets are unordered\n",
        "\n",
        "- Sets do not have an ordering.\n",
        "\n",
        "- Therefore we cannot index or slice them:\n",
        "\n"
      ]
    },
    {
      "cell_type": "code",
      "metadata": {
        "id": "-eLDO8XDJOYT",
        "colab_type": "code",
        "colab": {}
      },
      "source": [
        "X[0]"
      ],
      "execution_count": 0,
      "outputs": []
    },
    {
      "cell_type": "markdown",
      "metadata": {
        "id": "kU3S6tIhJOYU",
        "colab_type": "text"
      },
      "source": [
        "#### Operations on sets\n",
        "\n",
        "- Union: $X \\cup Y$\n"
      ]
    },
    {
      "cell_type": "code",
      "metadata": {
        "id": "iCz4yt4LJOYV",
        "colab_type": "code",
        "colab": {}
      },
      "source": [
        "X = {1, 2, 3}\n",
        "Y = {4, 5, 6}\n",
        "X | Y"
      ],
      "execution_count": 0,
      "outputs": []
    },
    {
      "cell_type": "markdown",
      "metadata": {
        "id": "pwPIiTzDJOYc",
        "colab_type": "text"
      },
      "source": [
        "- Intersection: $X \\cap Y$:"
      ]
    },
    {
      "cell_type": "code",
      "metadata": {
        "id": "OJw7v2EKJOYc",
        "colab_type": "code",
        "colab": {}
      },
      "source": [
        "X = {1, 2, 3, 4}\n",
        "Y = {3, 4, 5}\n",
        "X & Y"
      ],
      "execution_count": 0,
      "outputs": []
    },
    {
      "cell_type": "markdown",
      "metadata": {
        "id": "iJT74Ko-JOYf",
        "colab_type": "text"
      },
      "source": [
        "- Difference $X - Y$:\n"
      ]
    },
    {
      "cell_type": "code",
      "metadata": {
        "id": "y-IxmxIEJOYg",
        "colab_type": "code",
        "colab": {}
      },
      "source": [
        "X - Y"
      ],
      "execution_count": 0,
      "outputs": []
    },
    {
      "cell_type": "markdown",
      "metadata": {
        "id": "XHihWFYWJOYh",
        "colab_type": "text"
      },
      "source": [
        "### Dictionaries\n",
        "\n",
        "- A dictionary contains a mapping between *keys*, and corresponding *values*.\n",
        "    \n",
        "    - Mathematically it is a one-to-one function with a finite domain and range.\n",
        "    \n",
        "- Given a key, we can very quickly look up the corresponding value.\n",
        "\n",
        "- The values can be any type (and need not all be of the same type).\n",
        "\n",
        "- Keys can be any immutable (hashable) type.\n",
        "\n",
        "- They are abbreviated by the keyword `dict`.\n",
        "\n",
        "- In other programming languages they are sometimes called *associative arrays*."
      ]
    },
    {
      "cell_type": "markdown",
      "metadata": {
        "id": "p_vvLRSxJOYh",
        "colab_type": "text"
      },
      "source": [
        "#### Creating a dictionary\n",
        "\n",
        "- A dictionary contains a set of key-value pairs.\n",
        "\n",
        "- To create a dictionary:\n"
      ]
    },
    {
      "cell_type": "code",
      "metadata": {
        "id": "drC5fVvNJOYi",
        "colab_type": "code",
        "colab": {}
      },
      "source": [
        "students = { 107564: 'Xu', 108745: 'Ian', 102567: 'Steve' }"
      ],
      "execution_count": 0,
      "outputs": []
    },
    {
      "cell_type": "markdown",
      "metadata": {
        "id": "65_fBEVjJOYj",
        "colab_type": "text"
      },
      "source": [
        "- The above initialises the dictionary students so that it contains three key-value pairs.\n",
        "\n",
        "- The keys are the student id numbers (integers).\n",
        "\n",
        "- The values are the names of the students (strings).\n",
        "\n",
        "- Although we use the same brackets as for sets, this is a different type of collection:"
      ]
    },
    {
      "cell_type": "code",
      "metadata": {
        "id": "l6xduYNCJOYl",
        "colab_type": "code",
        "colab": {}
      },
      "source": [
        "type(students)"
      ],
      "execution_count": 0,
      "outputs": []
    },
    {
      "cell_type": "markdown",
      "metadata": {
        "id": "hG0vfgAQJOYn",
        "colab_type": "text"
      },
      "source": [
        "#### Accessing the values in a dictionary\n",
        "\n",
        "- We can access the value corresponding to a given key using the same syntax to access particular elements of a list: "
      ]
    },
    {
      "cell_type": "code",
      "metadata": {
        "id": "WpnEpwu-JOYn",
        "colab_type": "code",
        "colab": {}
      },
      "source": [
        "students[108745]"
      ],
      "execution_count": 0,
      "outputs": []
    },
    {
      "cell_type": "markdown",
      "metadata": {
        "id": "gfJexz37JOYp",
        "colab_type": "text"
      },
      "source": [
        "- Accessing a non-existent key will generate a `KeyError`:"
      ]
    },
    {
      "cell_type": "code",
      "metadata": {
        "id": "HO0s-2jkJOYq",
        "colab_type": "code",
        "colab": {}
      },
      "source": [
        "students[123]"
      ],
      "execution_count": 0,
      "outputs": []
    },
    {
      "cell_type": "markdown",
      "metadata": {
        "id": "qTRCMz3VJOYr",
        "colab_type": "text"
      },
      "source": [
        "#### Updating dictionary entries\n",
        "\n",
        "- Dictionaries are mutable, so we can update the mapping:"
      ]
    },
    {
      "cell_type": "code",
      "metadata": {
        "id": "dYnA5OdzJOYr",
        "colab_type": "code",
        "colab": {}
      },
      "source": [
        "students[108745] = 'Fred'\n",
        "print(students[108745])"
      ],
      "execution_count": 0,
      "outputs": []
    },
    {
      "cell_type": "markdown",
      "metadata": {
        "id": "EUxuetXnJOYt",
        "colab_type": "text"
      },
      "source": [
        "- We can also grow the dictionary by adding new keys:"
      ]
    },
    {
      "cell_type": "code",
      "metadata": {
        "id": "f_2LRnXMJOYt",
        "colab_type": "code",
        "colab": {}
      },
      "source": [
        "students[104587] = 'John'\n",
        "print(students[104587])"
      ],
      "execution_count": 0,
      "outputs": []
    },
    {
      "cell_type": "markdown",
      "metadata": {
        "id": "62nKjazdJOYv",
        "colab_type": "text"
      },
      "source": [
        "#### Dictionary keys can be any immutable type\n",
        "\n",
        "- We can use any immutable type for the keys of a dictionary\n",
        "\n",
        "- For example, we can map names onto integers:"
      ]
    },
    {
      "cell_type": "code",
      "metadata": {
        "id": "-5p39QHDJOYw",
        "colab_type": "code",
        "colab": {}
      },
      "source": [
        "age = { 'John':21, 'Steve':47, 'Xu': 22 }"
      ],
      "execution_count": 0,
      "outputs": []
    },
    {
      "cell_type": "code",
      "metadata": {
        "id": "XUnulXMdJOYx",
        "colab_type": "code",
        "colab": {}
      },
      "source": [
        "age['Steve']"
      ],
      "execution_count": 0,
      "outputs": []
    },
    {
      "cell_type": "markdown",
      "metadata": {
        "id": "JjWoSpI8JOYz",
        "colab_type": "text"
      },
      "source": [
        "#### Creating an empty dictionary\n",
        "\n",
        "- We often want to initialise a dictionary with no keys or values.\n",
        "\n",
        "- To do this call the function `dict()`:"
      ]
    },
    {
      "cell_type": "code",
      "metadata": {
        "id": "bPWVHVHjJOYz",
        "colab_type": "code",
        "colab": {}
      },
      "source": [
        "result = dict()"
      ],
      "execution_count": 0,
      "outputs": []
    },
    {
      "cell_type": "markdown",
      "metadata": {
        "id": "K_V4KoU7JOY1",
        "colab_type": "text"
      },
      "source": [
        "- We can then progressively add entries to the dictionary, e.g. using iteration:"
      ]
    },
    {
      "cell_type": "code",
      "metadata": {
        "id": "bKmWfAfXJOY2",
        "colab_type": "code",
        "colab": {}
      },
      "source": [
        "for i in range(5):\n",
        "    result[i] = i**2\n",
        "print(result)"
      ],
      "execution_count": 0,
      "outputs": []
    },
    {
      "cell_type": "markdown",
      "metadata": {
        "id": "Bk-CvpTDJOY3",
        "colab_type": "text"
      },
      "source": [
        "#### Iterating over a dictionary\n",
        "\n",
        "- We can use a for loop with dictionaries, just as we can with other collections such as sets.\n",
        "- When we iterate over a dictionary, we iterate over the *keys*.\n",
        "- We can then perform some computation on each key inside the loop.\n",
        "- Typically we will also access the corresponding value."
      ]
    },
    {
      "cell_type": "code",
      "metadata": {
        "id": "4p9TJuoVJOY3",
        "colab_type": "code",
        "colab": {}
      },
      "source": [
        "for id in students:\n",
        "    print(students[id])"
      ],
      "execution_count": 0,
      "outputs": []
    },
    {
      "cell_type": "markdown",
      "metadata": {
        "id": "3SLZcZFXJOY6",
        "colab_type": "text"
      },
      "source": [
        "### The size of a collection\n",
        "\n",
        "- We can count the number of values in a collection using the `len` (length) function.\n",
        "\n",
        "- This can be used with any type of collection (list, set, tuple etc.).\n"
      ]
    },
    {
      "cell_type": "code",
      "metadata": {
        "id": "Ep4hgwUlJOY6",
        "colab_type": "code",
        "colab": {}
      },
      "source": [
        "len(students)"
      ],
      "execution_count": 0,
      "outputs": []
    },
    {
      "cell_type": "code",
      "metadata": {
        "id": "bKDtIbc-JOY7",
        "colab_type": "code",
        "colab": {}
      },
      "source": [
        "len(['one', 'two'])"
      ],
      "execution_count": 0,
      "outputs": []
    },
    {
      "cell_type": "code",
      "metadata": {
        "id": "mmXS9ip0JOY9",
        "colab_type": "code",
        "colab": {}
      },
      "source": [
        "len({'one', 'two', 'three'})"
      ],
      "execution_count": 0,
      "outputs": []
    },
    {
      "cell_type": "markdown",
      "metadata": {
        "id": "jTRiWnlAJOZA",
        "colab_type": "text"
      },
      "source": [
        "#### Empty collections"
      ]
    },
    {
      "cell_type": "markdown",
      "metadata": {
        "id": "_TSGxhRbJOZA",
        "colab_type": "text"
      },
      "source": [
        "- Empty collections have a size of zero:"
      ]
    },
    {
      "cell_type": "code",
      "metadata": {
        "id": "SAb4Tx78JOZC",
        "colab_type": "code",
        "colab": {}
      },
      "source": [
        "empty_list = []\n",
        "len(empty_list) == 0"
      ],
      "execution_count": 0,
      "outputs": []
    },
    {
      "cell_type": "markdown",
      "metadata": {
        "id": "pScFv_92JOZE",
        "colab_type": "text"
      },
      "source": [
        "### Arrays\n",
        "\n",
        "- Python also has arrays which contain a *single* type of value.\n",
        "\n",
        "- i.e. we *cannot* have different types of value within the same array.   \n",
        "\n",
        "- Arrays are mutable like lists; we can modify the existing elements of an array.\n",
        "\n",
        "- However, we typically do not change the size of the array; i.e. it has a fixed length."
      ]
    },
    {
      "cell_type": "markdown",
      "metadata": {
        "id": "XdhnHa41JOZE",
        "colab_type": "text"
      },
      "source": [
        "## Defining new functions\n",
        "\n"
      ]
    },
    {
      "cell_type": "code",
      "metadata": {
        "id": "HQylJdvKJOZF",
        "colab_type": "code",
        "colab": {}
      },
      "source": [
        "def squared(x):\n",
        "    return x ** 2\n",
        "\n",
        "squared(5)"
      ],
      "execution_count": 0,
      "outputs": []
    },
    {
      "cell_type": "markdown",
      "metadata": {
        "id": "Wf-xm7zOJOZH",
        "colab_type": "text"
      },
      "source": [
        "## Local Variables\n",
        "\n",
        "- Variables created inside functions are _local_ to that function.\n",
        "\n",
        "- They are not accessable to code outside of that function."
      ]
    },
    {
      "cell_type": "code",
      "metadata": {
        "id": "OzooPhjMJOZI",
        "colab_type": "code",
        "colab": {}
      },
      "source": [
        "def squared(x):\n",
        "    temp = x ** 2\n",
        "    return temp\n",
        "\n",
        "squared(5)"
      ],
      "execution_count": 0,
      "outputs": []
    },
    {
      "cell_type": "code",
      "metadata": {
        "id": "N0eL3viOJOZJ",
        "colab_type": "code",
        "colab": {}
      },
      "source": [
        "temp"
      ],
      "execution_count": 0,
      "outputs": []
    },
    {
      "cell_type": "markdown",
      "metadata": {
        "id": "63HarBQpJOZK",
        "colab_type": "text"
      },
      "source": [
        "## Functional Programming\n",
        "\n",
        "- Functions are first-class citizens in Python.\n",
        "\n",
        "- They can be passed around just like any other value."
      ]
    },
    {
      "cell_type": "code",
      "metadata": {
        "id": "FM3ebwMhJOZL",
        "colab_type": "code",
        "colab": {}
      },
      "source": [
        "squared"
      ],
      "execution_count": 0,
      "outputs": []
    },
    {
      "cell_type": "code",
      "metadata": {
        "id": "OqZt9esDJOZN",
        "colab_type": "code",
        "colab": {}
      },
      "source": [
        "y = squared\n",
        "y"
      ],
      "execution_count": 0,
      "outputs": []
    },
    {
      "cell_type": "code",
      "metadata": {
        "id": "W8DcAxxDJOZO",
        "colab_type": "code",
        "colab": {}
      },
      "source": [
        "y(5)"
      ],
      "execution_count": 0,
      "outputs": []
    },
    {
      "cell_type": "markdown",
      "metadata": {
        "id": "D44YOHn2JOZP",
        "colab_type": "text"
      },
      "source": [
        "## Mapping the elements of a collection\n",
        "\n",
        "- We can apply a function to each element of a collection using the built-in function `map()`.\n",
        "\n",
        "- This will work with any collection: list, set, tuple or string.\n",
        "\n",
        "- This will take as an argument _another function_, and the list we want to apply it to.\n",
        "\n",
        "- It will return the results of applying the function, as a list."
      ]
    },
    {
      "cell_type": "code",
      "metadata": {
        "id": "bTPacl6eJOZR",
        "colab_type": "code",
        "colab": {}
      },
      "source": [
        "list(map(squared, [1, 2, 3, 4]))"
      ],
      "execution_count": 0,
      "outputs": []
    },
    {
      "cell_type": "markdown",
      "metadata": {
        "id": "sa0Qc1OKJOZS",
        "colab_type": "text"
      },
      "source": [
        "## List Comprehensions"
      ]
    },
    {
      "cell_type": "markdown",
      "metadata": {
        "id": "qcs2JvPIJOZS",
        "colab_type": "text"
      },
      "source": [
        "- Because this is such a common operation, Python has a special syntax to do the same thing, called a _list comprehension_.\n"
      ]
    },
    {
      "cell_type": "code",
      "metadata": {
        "id": "Tn26vjk9JOZT",
        "colab_type": "code",
        "colab": {}
      },
      "source": [
        "[squared(i) for i in [1, 2, 3, 4]]"
      ],
      "execution_count": 0,
      "outputs": []
    },
    {
      "cell_type": "markdown",
      "metadata": {
        "id": "2bKLWQlaJOZe",
        "colab_type": "text"
      },
      "source": [
        "- If we want a set instead of a list we can use a set comprehension"
      ]
    },
    {
      "cell_type": "code",
      "metadata": {
        "id": "CptpiGFiJOZf",
        "colab_type": "code",
        "colab": {}
      },
      "source": [
        "{squared(i) for i in [1, 2, 3, 4]}"
      ],
      "execution_count": 0,
      "outputs": []
    },
    {
      "cell_type": "markdown",
      "metadata": {
        "id": "xBAdOJhhJOZh",
        "colab_type": "text"
      },
      "source": [
        "## Anonymous Function Literals\n",
        "\n",
        "- We can also write _anonymous_ functions.\n",
        "- These are function literals, and do not necessarily have a name.\n",
        "- They are called _lambda expressions_ (after the $\\lambda-$calculus)."
      ]
    },
    {
      "cell_type": "code",
      "metadata": {
        "id": "GLfWCTlCJOZh",
        "colab_type": "code",
        "colab": {}
      },
      "source": [
        "list(map(lambda x: x ** 2, [1, 2, 3, 4]))"
      ],
      "execution_count": 0,
      "outputs": []
    },
    {
      "cell_type": "markdown",
      "metadata": {
        "id": "h4Ao2jxzJOZj",
        "colab_type": "text"
      },
      "source": [
        "## Filtering data\n",
        "\n",
        "- We can filter a list by applying a _predicate_ to each element of the list.\n",
        "\n",
        "- A predicate is a function which takes a single argument, and returns a boolean value.\n",
        "\n",
        "- `filter(p, X)` is equivalent to $\\{ x : p(x) \\; \\forall x \\in X \\}$ in set-builder notation.\n"
      ]
    },
    {
      "cell_type": "code",
      "metadata": {
        "id": "zQlPQJmcJOZj",
        "colab_type": "code",
        "colab": {}
      },
      "source": [
        "list(filter(lambda x: x > 0, [-5, 2, 3, -10, 0, 1]))"
      ],
      "execution_count": 0,
      "outputs": []
    },
    {
      "cell_type": "markdown",
      "metadata": {
        "id": "TbhiK4DIJOZl",
        "colab_type": "text"
      },
      "source": [
        "We can use both `filter()` and `map()` on other collections such as strings or sets."
      ]
    },
    {
      "cell_type": "code",
      "metadata": {
        "id": "DODbx3G6JOZl",
        "colab_type": "code",
        "colab": {}
      },
      "source": [
        "list(filter(lambda x: x > 0, {-5, 2, 3, -10, 0, 1}))"
      ],
      "execution_count": 0,
      "outputs": []
    },
    {
      "cell_type": "markdown",
      "metadata": {
        "id": "qpEXcNhZJOZn",
        "colab_type": "text"
      },
      "source": [
        "## Filtering using a list comprehension\n",
        "\n",
        "- Again, because this is such a common operation, we can use simpler syntax to say the same thing.\n",
        "\n",
        "- We can express a filter using a list-comprehension by using the keyword `if`:"
      ]
    },
    {
      "cell_type": "code",
      "metadata": {
        "id": "aey4bHkCJOZo",
        "colab_type": "code",
        "colab": {}
      },
      "source": [
        "data = [-5, 2, 3, -10, 0, 1]\n",
        "[x for x in data if x > 0]"
      ],
      "execution_count": 0,
      "outputs": []
    },
    {
      "cell_type": "markdown",
      "metadata": {
        "id": "oN7hQnxVJOZp",
        "colab_type": "text"
      },
      "source": [
        "- We can also filter and then map in the same expression:"
      ]
    },
    {
      "cell_type": "code",
      "metadata": {
        "id": "4pmpxIaoJOZp",
        "colab_type": "code",
        "colab": {}
      },
      "source": [
        "from numpy import sqrt\n",
        "[sqrt(x) for x in data if x > 0]"
      ],
      "execution_count": 0,
      "outputs": []
    },
    {
      "cell_type": "markdown",
      "metadata": {
        "id": "8tZ1MwtzJOZr",
        "colab_type": "text"
      },
      "source": [
        "## The reduce function\n",
        "\n",
        "- The `reduce()` function recursively applies another function to pairs of values over the entire list, resulting in a _single_ return value."
      ]
    },
    {
      "cell_type": "code",
      "metadata": {
        "id": "Ntm7CfoJJOZs",
        "colab_type": "code",
        "colab": {}
      },
      "source": [
        "from functools import reduce\n",
        "reduce(lambda x, y: x + y, [0, 1, 2, 3, 4, 5])"
      ],
      "execution_count": 0,
      "outputs": []
    },
    {
      "cell_type": "markdown",
      "metadata": {
        "id": "-chEATuTJOZu",
        "colab_type": "text"
      },
      "source": [
        "## Big Data\n",
        "\n",
        "- The `map()` and `reduce()` functions form the basis of the map-reduce programming model.\n",
        "\n",
        "- [Map-reduce](https://en.wikipedia.org/wiki/MapReduce) is the basis of modern highly-distributed large-scale computing frameworks.\n",
        "\n",
        "- It is used in BigTable, Hadoop and Apache Spark. \n",
        "\n",
        "- See [these examples in Python](https://spark.apache.org/examples.html) for Apache Spark."
      ]
    },
    {
      "cell_type": "markdown",
      "metadata": {
        "id": "Yq05HTZbJOZu",
        "colab_type": "text"
      },
      "source": [
        "### Answers for the exercises"
      ]
    },
    {
      "cell_type": "markdown",
      "metadata": {
        "id": "RQoF-nrNJOZv",
        "colab_type": "text"
      },
      "source": [
        "<a name=\"ex1answer\">Answer to Exercise 1</a>"
      ]
    },
    {
      "cell_type": "code",
      "metadata": {
        "id": "MMz4wY4qJOZw",
        "colab_type": "code",
        "colab": {}
      },
      "source": [
        "a = 1\n",
        "b = 1\n",
        "c = -6\n",
        "x = -2\n",
        "y = a * x ** 2 + b * x + c\n",
        "print('y evaluated at x = -2 is', y)\n",
        "x = 0 \n",
        "y = a * x ** 2 + b * x + c\n",
        "print('y evaluated at x = 0 is', y)\n",
        "x = 2.1\n",
        "y = a * x ** 2 + b * x + c\n",
        "print('y evaluated at x = 2.1 is {:0.2f}'.format(y))"
      ],
      "execution_count": 0,
      "outputs": []
    },
    {
      "cell_type": "markdown",
      "metadata": {
        "id": "K9LLqO3BJOZ0",
        "colab_type": "text"
      },
      "source": [
        "<a href=\"#ex1\">Back to Exercise 1</a>\n",
        "\n",
        "<a name=\"ex2answer\">Answer to Exercise 2</a>"
      ]
    },
    {
      "cell_type": "code",
      "metadata": {
        "id": "RCzg1ufyJOZ0",
        "colab_type": "code",
        "colab": {}
      },
      "source": [
        "week = ['monday', 'tuesday', 'wednesday', 'thursday', 'friday','saturday', 'sunday']\n",
        "\n",
        "for day in week:\n",
        "    if day == \"saturday\" or day == \"sunday\":\n",
        "        print(\"{} : At rest this weekend\".format(day))\n",
        "    elif day == \"friday\":\n",
        "        print(\"{} : Oh yeah it's friday\".format(day))\n",
        "    else:\n",
        "        print(\"{} : At work\".format(day))"
      ],
      "execution_count": 0,
      "outputs": []
    },
    {
      "cell_type": "markdown",
      "metadata": {
        "id": "xecMwR23JOZ3",
        "colab_type": "text"
      },
      "source": [
        "<a href=\"#ex2\">Back to Exercise 2</a>"
      ]
    },
    {
      "cell_type": "code",
      "metadata": {
        "id": "NxTpkC_JI8AO",
        "colab_type": "code",
        "colab": {}
      },
      "source": [
        ""
      ],
      "execution_count": 0,
      "outputs": []
    }
  ]
}