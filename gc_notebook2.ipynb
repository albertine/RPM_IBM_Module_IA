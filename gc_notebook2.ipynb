{
  "nbformat": 4,
  "nbformat_minor": 0,
  "metadata": {
    "kernelspec": {
      "display_name": "Python 3",
      "language": "python",
      "name": "python3"
    },
    "language_info": {
      "codemirror_mode": {
        "name": "ipython",
        "version": 3
      },
      "file_extension": ".py",
      "mimetype": "text/x-python",
      "name": "python",
      "nbconvert_exporter": "python",
      "pygments_lexer": "ipython3",
      "version": "3.5.2"
    },
    "colab": {
      "name": "notebook2.ipynb",
      "provenance": [],
      "collapsed_sections": [],
      "toc_visible": true
    }
  },
  "cells": [
    {
      "cell_type": "markdown",
      "metadata": {
        "id": "4dwj0nPAmu28",
        "colab_type": "text"
      },
      "source": [
        "# Notebook 2: Image processing using SimpleITK package\n",
        "\n",
        "SimpleITK is a simplified, open source interface to the National Library of Medicine's Insight Segmentation and Registration Toolkit (ITK) in a variety of languages including Python.\n",
        "\n",
        "### SimpleITK conventions\n",
        "    \n",
        "* Image access is in x,y,z order, <code>image.GetPixel(x,y,z)</code> or <code>image[x,y,z]</code>, with zero based indexing\n",
        "* If the output of an ITK filter has non-zero starting index, then the index will be set to 0, and the origin adjusted accordingly\n",
        "\n",
        "\n",
        "The unique feature of SimpleITK (derived from ITK) as a toolkit for image manipulation and analysis is that\n",
        "it views <b>images as physical objects occupying a bounded region in physical space</b>. In addition images can have different spacing between pixels along each axis, and the axes are not necessarily orthogonal. \n",
        "\n",
        "The following figure illustrates these concepts. \n",
        "\n",
        "<figure>\n",
        "<center>\n",
        "<img src=\"http://insightsoftwareconsortium.github.io/SimpleITK-Notebooks/Python_html/ImageOriginAndSpacing.png\">\n",
        "</figure>\n",
        "\n",
        "\n",
        "### Pixel Types\n",
        "\n",
        "The pixel type is represented as an enumerated type. The following is a table of the enumerated list.\n",
        "\n",
        "<table>\n",
        "  <tr><td>sitkUInt8</td><td>Unsigned 8 bit integer</td></tr>\n",
        "  <tr><td>sitkInt8</td><td>Signed 8 bit integer</td></tr>\n",
        "  <tr><td>sitkUInt16</td><td>Unsigned 16 bit integer</td></tr>\n",
        "  <tr><td>sitkInt16</td><td>Signed 16 bit integer</td></tr>\n",
        "  <tr><td>sitkUInt32</td><td>Unsigned 32 bit integer</td></tr>\n",
        "  <tr><td>sitkInt32</td><td>Signed 32 bit integer</td></tr>\n",
        "  <tr><td>sitkUInt64</td><td>Unsigned 64 bit integer</td></tr>\n",
        "  <tr><td>sitkInt64</td><td>Signed 64 bit integer</td></tr>\n",
        "  <tr><td>sitkFloat32</td><td>32 bit float</td></tr>\n",
        "  <tr><td>sitkFloat64</td><td>64 bit float</td></tr>\n",
        "  <tr><td>sitkComplexFloat32</td><td>complex number of 32 bit float</td></tr>\n",
        "  <tr><td>sitkComplexFloat64</td><td>complex number of 64 bit float</td></tr>\n",
        "  <tr><td>sitkVectorUInt8</td><td>Multi-component of unsigned 8 bit integer</td></tr>\n",
        "  <tr><td>sitkVectorInt8</td><td>Multi-component of signed 8 bit integer</td></tr>\n",
        "  <tr><td>sitkVectorUInt16</td><td>Multi-component of unsigned 16 bit integer</td></tr>\n",
        "  <tr><td>sitkVectorInt16</td><td>Multi-component of signed 16 bit integer</td></tr>\n",
        "  <tr><td>sitkVectorUInt32</td><td>Multi-component of unsigned 32 bit integer</td></tr>\n",
        "  <tr><td>sitkVectorInt32</td><td>Multi-component of signed 32 bit integer</td></tr>\n",
        "  <tr><td>sitkVectorUInt64</td><td>Multi-component of unsigned 64 bit integer</td></tr>\n",
        "  <tr><td>sitkVectorInt64</td><td>Multi-component of signed 64 bit integer</td></tr>\n",
        "  <tr><td>sitkVectorFloat32</td><td>Multi-component of 32 bit float</td></tr>\n",
        "  <tr><td>sitkVectorFloat64</td><td>Multi-component of 64 bit float</td></tr>\n",
        "  <tr><td>sitkLabelUInt8</td><td>RLE label of unsigned 8 bit integers</td></tr>\n",
        "  <tr><td>sitkLabelUInt16</td><td>RLE label of unsigned 16 bit integers</td></tr>\n",
        "  <tr><td>sitkLabelUInt32</td><td>RLE label of unsigned 32 bit integers</td></tr>\n",
        "  <tr><td>sitkLabelUInt64</td><td>RLE label of unsigned 64 bit integers</td></tr>\n",
        "</table>\n",
        "\n",
        "There is also `sitkUnknown`, which is used for undefined or erroneous pixel ID's. It has a value of -1.\n",
        "\n",
        "The 64-bit integer types are not available on all distributions. When not available the value is `sitkUnknown`."
      ]
    },
    {
      "cell_type": "code",
      "metadata": {
        "id": "NLLt81LaNABw",
        "colab_type": "code",
        "colab": {}
      },
      "source": [
        "!git clone https://github.com/albertine/RPM_IBM_Module_IA.git"
      ],
      "execution_count": 0,
      "outputs": []
    },
    {
      "cell_type": "markdown",
      "metadata": {
        "id": "bTu46fM_mu2-",
        "colab_type": "text"
      },
      "source": [
        "## 1. Loading and displaying an image"
      ]
    },
    {
      "cell_type": "code",
      "metadata": {
        "id": "HljnYlFXmu2_",
        "colab_type": "code",
        "colab": {}
      },
      "source": [
        "# Import required packages\n",
        "import numpy as np\n",
        "# matplotlib.pyplot is a state-based interface to matplotlib. It provides a MATLAB-like way of plotting\n",
        "# pyplot is mainly intended for interactive plots and simple cases of programmatic plot generation\n",
        "import matplotlib.pyplot as plt\n",
        "import os\n",
        "\n",
        "# Install and import SimpleITK\n",
        "!pip install --upgrade SimpleITK\n",
        "import SimpleITK as sitk\n",
        "\n",
        "# Define current working directory\n",
        "PWD_DIR = os.getcwd()\n",
        "# Define output data directory\n",
        "OUTPUT_DIR = os.path.join(PWD_DIR,'output')\n",
        "# If it doesn't exist, create it\n",
        "if not os.path.exists(OUTPUT_DIR):\n",
        "    os.makedirs(OUTPUT_DIR)"
      ],
      "execution_count": 0,
      "outputs": []
    },
    {
      "cell_type": "code",
      "metadata": {
        "scrolled": true,
        "id": "cVw2khOlmu3F",
        "colab_type": "code",
        "colab": {}
      },
      "source": [
        "# Read and display image of SimpleITK logo after having imported it into Google Colab\n",
        "logo = sitk.ReadImage('/content/RPM_IBM_Module_IA/simpleITK.png')"
      ],
      "execution_count": 0,
      "outputs": []
    },
    {
      "cell_type": "code",
      "metadata": {
        "id": "G1O6MMddmu3I",
        "colab_type": "code",
        "colab": {}
      },
      "source": [
        "# To obtain help on function ReadImage in module SimpleITK\n",
        "help(sitk.ReadImage)\n",
        "sitk.ReadImage?"
      ],
      "execution_count": 0,
      "outputs": []
    },
    {
      "cell_type": "code",
      "metadata": {
        "id": "Bzv2f19jmu3L",
        "colab_type": "code",
        "colab": {}
      },
      "source": [
        "# type() method returns class type of the argument(object) passed as parameter\n",
        "type(logo)"
      ],
      "execution_count": 0,
      "outputs": []
    },
    {
      "cell_type": "code",
      "metadata": {
        "id": "KbGmfvJwCOxA",
        "colab_type": "code",
        "colab": {}
      },
      "source": [
        "# Imshow method displays an image, i.e. data on a 2D regular raster\n",
        "plt.imshow(sitk.GetArrayViewFromImage(logo))"
      ],
      "execution_count": 0,
      "outputs": []
    },
    {
      "cell_type": "markdown",
      "metadata": {
        "id": "-V27t86rmu3O",
        "colab_type": "text"
      },
      "source": [
        "## 2. Creating a new image\n",
        "\n",
        "There are a variety of ways to create an image. \n",
        "\n",
        "The following components are required for a complete definition of an image:\n",
        "<ol>\n",
        "<li> <b>Pixel type</b> [fixed on creation, no default]: unsigned 32 bit integer, sitkVectorUInt8, etc., see list above.</li>\n",
        "<li> <b>Sizes</b> [fixed on creation, no default]: number of pixels/voxels in each dimension. This quantity implicitly defines the image dimension.</li>\n",
        "<li> <b>Origin</b> [default is zero]: coordinates of the pixel/voxel with index (0,0,0) in physical units (i.e. mm).</li>\n",
        "<li> <b>Spacing</b> [default is one]: distance between adjacent pixels/voxels in each dimension given in physical units.</li>\n",
        "<li> <b>Direction matrix</b> [default is identity]: mapping, rotation, between direction of the pixel/voxel axes and physical directions.</li>\n",
        "</ol>\n",
        "\n",
        "<span style='color:red'><b>Initial pixel/voxel values are set to zero.</b></span>"
      ]
    },
    {
      "cell_type": "code",
      "metadata": {
        "id": "Ht1aeHr5mu3P",
        "colab_type": "code",
        "colab": {}
      },
      "source": [
        "# Create images with different sizes and pixel types \n",
        "image_3D = sitk.Image(256, 128, 64, sitk.sitkInt16)\n",
        "image_2D = sitk.Image(64, 64, sitk.sitkFloat32)\n",
        "image_2D = sitk.Image([32,32], sitk.sitkUInt32)\n",
        "image_RGB = sitk.Image([128,128], sitk.sitkVectorUInt8, 3)"
      ],
      "execution_count": 0,
      "outputs": []
    },
    {
      "cell_type": "markdown",
      "metadata": {
        "id": "SI2mZqxumu3S",
        "colab_type": "text"
      },
      "source": [
        "## 3. Accessing to basic image attributes\n",
        "\n",
        "You can change the image origin, spacing and direction. Making such changes to an image already containing data should be done cautiously. "
      ]
    },
    {
      "cell_type": "code",
      "metadata": {
        "id": "NKzywcI9mu3T",
        "colab_type": "code",
        "colab": {}
      },
      "source": [
        "print(\"Initial image_3D origin:\", image_3D.GetOrigin())\n",
        "print(\"Initial image_3D spacing (voxel size):\",image_3D.GetSpacing(),'\\n')\n",
        "image_3D.SetOrigin((78.0, 76.0, 77.0))\n",
        "image_3D.SetSpacing([0.5,0.5,3.0])\n",
        "print(\"New image_3D origin:\", image_3D.GetOrigin())\n",
        "print(\"New image_3D spacing (voxel size):\",image_3D.GetSpacing(),'\\n')\n",
        "\n",
        "print(\"Image_3D size:\",image_3D.GetSize())\n",
        "print(\"Image_3D size (number of rows):\",image_3D.GetSize()[0])\n",
        "print(\"Image_3D size (number of columns):\",image_3D.GetSize()[1])\n",
        "print(\"Image_3D size (number of slices):\",image_3D.GetSize()[2])\n",
        "print(\"Image_3D direction:\",image_3D.GetDirection())"
      ],
      "execution_count": 0,
      "outputs": []
    },
    {
      "cell_type": "markdown",
      "metadata": {
        "id": "Vl6K0gb8mu3V",
        "colab_type": "text"
      },
      "source": [
        "<span style='color:red'>Note: The starting index of a SimpleITK Image is always 0. If the output of an ITK filter has non-zero starting index, then the index will be set to 0, and the origin adjusted accordingly.</span>"
      ]
    },
    {
      "cell_type": "markdown",
      "metadata": {
        "id": "94XlA37Xmu3W",
        "colab_type": "text"
      },
      "source": [
        "#### Image dimension queries:"
      ]
    },
    {
      "cell_type": "code",
      "metadata": {
        "id": "HcBe8K25mu3X",
        "colab_type": "code",
        "colab": {}
      },
      "source": [
        "print(\"Image_3D dimension:\",image_3D.GetDimension())\n",
        "# The size of the image's dimensions have explicit accessors:\n",
        "print(\"Image_3D width:\",image_3D.GetWidth())\n",
        "print(\"Image_3D height:\",image_3D.GetHeight())\n",
        "print(\"Image_3D depth:\",image_3D.GetDepth())"
      ],
      "execution_count": 0,
      "outputs": []
    },
    {
      "cell_type": "markdown",
      "metadata": {
        "id": "WFlpYwXemu3a",
        "colab_type": "text"
      },
      "source": [
        "#### Pixel/voxel type queries: "
      ]
    },
    {
      "cell_type": "code",
      "metadata": {
        "id": "G42CMaMjmu3b",
        "colab_type": "code",
        "colab": {}
      },
      "source": [
        "# Since the dimension and pixel type of a SimpleITK image is determined at run-time, accessors are needed\n",
        "print(\"Image_3D pixel ID value:\",image_3D.GetPixelIDValue())\n",
        "print(\"Image_3D pixel ID type:\",image_3D.GetPixelIDTypeAsString())\n",
        "print(\"Image_3D number of components per pixel:\",image_3D.GetNumberOfComponentsPerPixel())"
      ],
      "execution_count": 0,
      "outputs": []
    },
    {
      "cell_type": "markdown",
      "metadata": {
        "id": "AYHlOg2-mu3e",
        "colab_type": "text"
      },
      "source": [
        "#### What is the depth of a 2D image?"
      ]
    },
    {
      "cell_type": "code",
      "metadata": {
        "id": "HCnhq-zdmu3f",
        "colab_type": "code",
        "colab": {}
      },
      "source": [
        "print(\"Image_2D size:\",image_2D.GetSize())\n",
        "print(\"Image_2D depth:\",image_2D.GetDepth())"
      ],
      "execution_count": 0,
      "outputs": []
    },
    {
      "cell_type": "markdown",
      "metadata": {
        "id": "YlvyGBLRmu3i",
        "colab_type": "text"
      },
      "source": [
        "#### What is the dimension and size of a Vector image and its data?"
      ]
    },
    {
      "cell_type": "code",
      "metadata": {
        "id": "I8YEeyclmu3j",
        "colab_type": "code",
        "colab": {}
      },
      "source": [
        "print(\"Image_RGB dimension:\",image_RGB.GetDimension())\n",
        "print(\"Image_RGB size:\",image_RGB.GetSize())\n",
        "print(\"Image_RGB number of components per pixel:\",image_RGB.GetNumberOfComponentsPerPixel())"
      ],
      "execution_count": 0,
      "outputs": []
    },
    {
      "cell_type": "markdown",
      "metadata": {
        "id": "pLF6PErRmu3m",
        "colab_type": "text"
      },
      "source": [
        "## 4. Reading and assigning pixel values\n",
        "\n",
        "The Image class's member functions <code>GetPixel</code> and <code>SetPixel</code> provide an ITK-like interface for pixel access.\n",
        "\n",
        "ITK's Image class does not have a bracket operator. It has a <code>GetPixel</code> method which takes an ITK index object as an argument, which is **an array ordered as (x,y,z)**. This is the convention that SimpleITK's Image class uses for the <code>GetPixel</code> method as well.\n",
        "\n",
        "While in NumPy, **an array is indexed in the opposite order (z,y,x)**."
      ]
    },
    {
      "cell_type": "code",
      "metadata": {
        "id": "ZbDa1pBXmu3n",
        "colab_type": "code",
        "colab": {}
      },
      "source": [
        "# Get image_3D pixel value at x=0,y=0,z=0 and assign it new value of 10\n",
        "print(image_3D.GetPixel(0, 0, 0))\n",
        "image_3D.SetPixel(0, 0, 0, 10)\n",
        "print(image_3D.GetPixel(0, 0, 0))\n",
        "print(image_3D[0,0,0])\n",
        "# This can also be done using Pythonic notation\n",
        "# Get image_3D pixel value at x=0,y=0,z=1 and assign it new value of 20\n",
        "image_3D[0,0,1] = 20\n",
        "print(image_3D[0,0,1])"
      ],
      "execution_count": 0,
      "outputs": []
    },
    {
      "cell_type": "markdown",
      "metadata": {
        "id": "YlCjlv61mu3q",
        "colab_type": "text"
      },
      "source": [
        "## 5. Conversion between NumPy and SimpleITK\n",
        "\n",
        "<span style='color:red'>Be careful, SimpleITK and NumPy indexing access is in opposite order!</span> \n",
        "\n",
        "* SimpleITK: <code>image[x,y,z]</code>\n",
        "* NumPy: <code>image_numpy_array[z,y,x]</code>"
      ]
    },
    {
      "cell_type": "markdown",
      "metadata": {
        "id": "tSXCZOYymu3r",
        "colab_type": "text"
      },
      "source": [
        "#### From SimpleITK to NumPy\n",
        "\n",
        "We have two options for converting from SimpleITK to NumPy:\n",
        "* <code>GetArrayFromImage()</code>: returns a copy of the image data. You can then freely modify the data as it has no effect on the original SimpleITK image.\n",
        "* <code>GetArrayViewFromImage()</code>: returns a view on the image data which is useful for display in a memory efficient manner. You cannot modify the data and __the view will be invalid if the original SimpleITK image is deleted__.\n",
        "    \n",
        "By converting into a NumPy array, matplotlib can be used for visualization for integration into the scientific Python environment. "
      ]
    },
    {
      "cell_type": "code",
      "metadata": {
        "id": "jueFNrsgmu3s",
        "colab_type": "code",
        "colab": {}
      },
      "source": [
        "# Conversion of a SimpleITK image to a NumPy array\n",
        "arr_image_3D = sitk.GetArrayFromImage(image_3D)\n",
        "print('Image_3D size (SimpleITK) = ',image_3D.GetSize())\n",
        "print('Corresponding array size (NumPy) = ',arr_image_3D.shape,' <--- pay attention to the dimension order!\\n')\n",
        "\n",
        "arr_image_RGB = sitk.GetArrayFromImage(image_RGB)\n",
        "print('Image_RGB size (SimpleITK) = ',image_RGB.GetSize())\n",
        "print('Corresponding array size (NumPy) = ',arr_image_RGB.shape)"
      ],
      "execution_count": 0,
      "outputs": []
    },
    {
      "cell_type": "markdown",
      "metadata": {
        "id": "g6p5HozTmu3v",
        "colab_type": "text"
      },
      "source": [
        "#### From Numpy to SimpleITK\n",
        "\n",
        "Remember to set the image's origin, spacing, and possibly direction cosine matrix. The default values may not match the physical dimensions of your image."
      ]
    },
    {
      "cell_type": "code",
      "metadata": {
        "id": "w6zDHKJ5mu3w",
        "colab_type": "code",
        "colab": {}
      },
      "source": [
        "arr = np.zeros((10,20,3))\n",
        "print('Array size (NumPy) = ',arr.shape)\n",
        "\n",
        "# If this is supposed to be a 3D gray scale image [x=3, y=20, z=10]\n",
        "img = sitk.GetImageFromArray(arr)\n",
        "print('3D gray scale image size (SimpleITK) = ',img.GetSize())\n",
        "print('3D gray scale image number of components per pixel = ',img.GetNumberOfComponentsPerPixel())\n",
        "\n",
        "# If this is supposed to be a 2D color image [x=20,y=10]\n",
        "img = sitk.GetImageFromArray(arr, isVector=True)\n",
        "print('2D color image size (SimpleITK) = ',img.GetSize())\n",
        "print('2D color image number of components per pixel = ',img.GetNumberOfComponentsPerPixel())"
      ],
      "execution_count": 0,
      "outputs": []
    },
    {
      "cell_type": "markdown",
      "metadata": {
        "id": "5QQniS66mu3z",
        "colab_type": "text"
      },
      "source": [
        "### <a name=\"ex1\"></a> Exercise 1\n",
        "\n",
        "Define and display the number of pixels, size, details, dimension and number of components per pixel of the SimpleITK logo image"
      ]
    },
    {
      "cell_type": "code",
      "metadata": {
        "id": "XYcYgAjKEU1h",
        "colab_type": "code",
        "colab": {}
      },
      "source": [
        ""
      ],
      "execution_count": 0,
      "outputs": []
    },
    {
      "cell_type": "markdown",
      "metadata": {
        "id": "bwGgyK-Hmu30",
        "colab_type": "text"
      },
      "source": [
        "<a href=\"#ex1answer\">Answer to exercise 1</a>"
      ]
    },
    {
      "cell_type": "markdown",
      "metadata": {
        "id": "RxMm1zvrmu31",
        "colab_type": "text"
      },
      "source": [
        "## 6. Slicing and image operations\n",
        "\n",
        "Slicing of SimpleITK images returns a copy of the image data.\n",
        "\n",
        "This is similar to slicing Python lists and differs from the \"view\" returned by slicing NumPy arrays."
      ]
    },
    {
      "cell_type": "code",
      "metadata": {
        "id": "VmYgXcMqmu31",
        "colab_type": "code",
        "colab": {}
      },
      "source": [
        "arr = sitk.GetArrayFromImage(logo)\n",
        "plt.imshow(arr)"
      ],
      "execution_count": 0,
      "outputs": []
    },
    {
      "cell_type": "code",
      "metadata": {
        "id": "3dY2gJc8mu34",
        "colab_type": "code",
        "colab": {}
      },
      "source": [
        "# Remove axis\n",
        "plt.imshow(sitk.GetArrayViewFromImage(logo))\n",
        "plt.axis('off');"
      ],
      "execution_count": 0,
      "outputs": []
    },
    {
      "cell_type": "code",
      "metadata": {
        "id": "ciq5P_Hvmu37",
        "colab_type": "code",
        "colab": {}
      },
      "source": [
        "# Vertical flip(reverse the y axis)\n",
        "arr_vflip = arr[::-1,::] # [start:stop:step]\n",
        "# By default, start is 0 (first element), stop is last element index and step is 1.\n",
        "# A negative step can be used to obtain a reversed list. Negative step changes a way, slice notation works. \n",
        "# It makes the slice be built from the tail of the list. \n",
        "# So, it goes from the last element to the first element. \n",
        "# This way, we reverse the array order along y\n",
        "\n",
        "# Horizontal flip (reverse the x axis)\n",
        "arr_hflip = arr[::,::-1]\n",
        "\n",
        "plt.subplots(1, 2, figsize=(10, 10))\n",
        "plt.subplot(1,2,1)\n",
        "plt.imshow(arr_vflip)\n",
        "plt.axis('off');\n",
        "plt.subplot(1,2,2)\n",
        "plt.imshow(arr_hflip)\n",
        "plt.axis('off');"
      ],
      "execution_count": 0,
      "outputs": []
    },
    {
      "cell_type": "code",
      "metadata": {
        "id": "SdSwGwfVmu4C",
        "colab_type": "code",
        "colab": {}
      },
      "source": [
        "# Subsampling\n",
        "# Here, we keep only every 2-nd element of the array \n",
        "arr_subsample = arr[::2,::2]\n",
        "\n",
        "plt.subplots(1, 2, figsize=(10, 10))\n",
        "plt.subplot(1,2,1)\n",
        "plt.imshow(arr)\n",
        "plt.title('original image')\n",
        "#plt.axis('off');\n",
        "plt.subplot(1,2,2)\n",
        "plt.imshow(arr_subsample)\n",
        "plt.title('sub-sampled image')\n",
        "#plt.axis('off');"
      ],
      "execution_count": 0,
      "outputs": []
    },
    {
      "cell_type": "code",
      "metadata": {
        "id": "V2rsbFy-mu4G",
        "colab_type": "code",
        "colab": {}
      },
      "source": [
        "# Crop the original logo image so as to extract the eye\n",
        "eye = arr[85:130,10:84]\n",
        "plt.imshow(eye)"
      ],
      "execution_count": 0,
      "outputs": []
    },
    {
      "cell_type": "code",
      "metadata": {
        "id": "nf4ecPUmmu4J",
        "colab_type": "code",
        "colab": {}
      },
      "source": [
        "# Oversampling using different interpolation methods\n",
        "plt.subplots(3, 1, figsize=(10, 10))\n",
        "\n",
        "plt.subplot(3,1,1)\n",
        "plt.imshow(eye,interpolation='nearest')\n",
        "plt.axis('off')\n",
        "plt.title('nearest')\n",
        "\n",
        "plt.subplot(3,1,2)\n",
        "plt.imshow(eye,interpolation='bilinear')\n",
        "plt.axis('off')\n",
        "plt.title('bilinear')\n",
        "\n",
        "plt.subplot(3,1,3)\n",
        "plt.imshow(eye,interpolation='bicubic')\n",
        "plt.axis('off')\n",
        "plt.title('bicubic')"
      ],
      "execution_count": 0,
      "outputs": []
    },
    {
      "cell_type": "markdown",
      "metadata": {
        "id": "GH2DIQHfmu4O",
        "colab_type": "text"
      },
      "source": [
        "### <a name=\"ex2\"></a> Exercise 2\n",
        "\n",
        "* Make a `for` loop displaying in 2 rows and 2 columns format the oversampled *eye* image using the 4 following interpolation methods: nearest, bilinear, bicubic, sinc\n",
        "* After copying the SimpleITK logo image, draw a rectangle around the eye of this image using the following color code:\n",
        " * Right edge of the rectangle in green\n",
        " * Left edge in cyan\n",
        " * Top edge in red\n",
        " * Bottom edge in blue"
      ]
    },
    {
      "cell_type": "code",
      "metadata": {
        "id": "I9GYZgm8JPzO",
        "colab_type": "code",
        "colab": {}
      },
      "source": [
        ""
      ],
      "execution_count": 0,
      "outputs": []
    },
    {
      "cell_type": "markdown",
      "metadata": {
        "id": "o_mJhHajmu4P",
        "colab_type": "text"
      },
      "source": [
        "<a href=\"#ex2answer\">Answer to exercise 2</a>"
      ]
    },
    {
      "cell_type": "markdown",
      "metadata": {
        "id": "gEK3rjeNmu4Q",
        "colab_type": "text"
      },
      "source": [
        "## 7. Performing basic arithmetic operations between images\n",
        "SimpleITK supports basic arithmetic operations between images, taking into account their physical space."
      ]
    },
    {
      "cell_type": "code",
      "metadata": {
        "id": "Gic0yN4Gmu4R",
        "colab_type": "code",
        "colab": {}
      },
      "source": [
        "# Dot product of two arrays. Specifically, given first array is an 3-D array and the second one is a 1-D array, it is a sum product over the last axis of a and b.\n",
        "print('arr number of dimensions:', arr.ndim)\n",
        "arr_nb=np.dot(arr[...],[0.2989,0.5870,0.1140])\n",
        "\n",
        "# Declare a single figure (one row, three columns)\n",
        "fig, ax = plt.subplots(1,3,figsize=(10,5))\n",
        "ax[0].imshow(arr_nb)\n",
        "ax[1].imshow(arr_nb,cmap='jet')\n",
        "ax[2].imshow(arr_nb,cmap='gray')"
      ],
      "execution_count": 0,
      "outputs": []
    },
    {
      "cell_type": "code",
      "metadata": {
        "id": "5skPKj9Vmu4T",
        "colab_type": "code",
        "colab": {}
      },
      "source": [
        "# Subsampling\n",
        "mini_arr_nb=arr_nb[::2,::2] \n",
        "plt.imshow(mini_arr_nb)"
      ],
      "execution_count": 0,
      "outputs": []
    },
    {
      "cell_type": "code",
      "metadata": {
        "id": "wwQg4hHWmu4W",
        "colab_type": "code",
        "colab": {}
      },
      "source": [
        "# Add two images\n",
        "arr_add=np.add(arr,arr_vflip)"
      ],
      "execution_count": 0,
      "outputs": []
    },
    {
      "cell_type": "code",
      "metadata": {
        "id": "bmCQsGXjmu4Y",
        "colab_type": "code",
        "colab": {}
      },
      "source": [
        "# Add two other images\n",
        "arr_add2=arr+arr_vflip"
      ],
      "execution_count": 0,
      "outputs": []
    },
    {
      "cell_type": "code",
      "metadata": {
        "id": "irChO5Bemu4a",
        "colab_type": "code",
        "colab": {}
      },
      "source": [
        "plt.imshow(arr_add)"
      ],
      "execution_count": 0,
      "outputs": []
    },
    {
      "cell_type": "code",
      "metadata": {
        "id": "156lWuvUmu4c",
        "colab_type": "code",
        "colab": {}
      },
      "source": [
        "plt.imshow(arr_add2)"
      ],
      "execution_count": 0,
      "outputs": []
    },
    {
      "cell_type": "code",
      "metadata": {
        "id": "wMWx-SEBmu4f",
        "colab_type": "code",
        "colab": {}
      },
      "source": [
        "plt.imshow(arr+arr_hflip)"
      ],
      "execution_count": 0,
      "outputs": []
    },
    {
      "cell_type": "markdown",
      "metadata": {
        "id": "kAstK9Lnmu4i",
        "colab_type": "text"
      },
      "source": [
        "## 8. Reading and writing\n",
        "\n",
        "SimpleITK can read and write images stored in a single file, or a set of files (e.g. DICOM series, see notebook 3)"
      ]
    },
    {
      "cell_type": "markdown",
      "metadata": {
        "id": "tGiYmv6Bmu4j",
        "colab_type": "text"
      },
      "source": [
        "In the following cell, we read an image in PNG format, and write it as JPEG and BMP. File formats are deduced from the file extension. Appropriate pixel type is also set - you can override this and force a pixel type of your choice."
      ]
    },
    {
      "cell_type": "code",
      "metadata": {
        "id": "snkppuzYmu4k",
        "colab_type": "code",
        "colab": {}
      },
      "source": [
        "# Read again SimpleITK image logo\n",
        "img = sitk.ReadImage('/content/RPM_IBM_Module_IA/simpleITK.png')\n",
        "print(img.GetPixelIDTypeAsString())\n",
        "\n",
        "# Write it as JPEG and BMP\n",
        "sitk.WriteImage(img, os.path.join(OUTPUT_DIR, 'simpleITK.jpg'))\n",
        "sitk.WriteImage(img, os.path.join(OUTPUT_DIR, 'simpleITK.bmp'))"
      ],
      "execution_count": 0,
      "outputs": []
    },
    {
      "cell_type": "markdown",
      "metadata": {
        "id": "E1NTO4oJmu4m",
        "colab_type": "text"
      },
      "source": [
        "### <a name=\"ex3\"></a> Exercise 3\n",
        "\n",
        "* Create a 20x20 8-bit gray scale image \n",
        "* Set all pixels in this image to a value corresponding to the \"color\" of your choice\n",
        "* Crop this image so as to obtain a new 5x5 image and write down the capital letters I and A using two different \"colors\"\n",
        "* Display this cropped image using different color maps\n",
        "* Write this final image in PNG format"
      ]
    },
    {
      "cell_type": "code",
      "metadata": {
        "id": "NmI06Ex4KjH8",
        "colab_type": "code",
        "colab": {}
      },
      "source": [
        ""
      ],
      "execution_count": 0,
      "outputs": []
    },
    {
      "cell_type": "markdown",
      "metadata": {
        "id": "u3hxJKKOmu4n",
        "colab_type": "text"
      },
      "source": [
        "<a href=\"#ex3answer\">Answer to exercise 3</a>"
      ]
    },
    {
      "cell_type": "markdown",
      "metadata": {
        "id": "Esug_QaImu4o",
        "colab_type": "text"
      },
      "source": [
        "## Answers to exercises"
      ]
    },
    {
      "cell_type": "markdown",
      "metadata": {
        "id": "KjdJH7jTmu4o",
        "colab_type": "text"
      },
      "source": [
        "<a href=\"#ex1\">Back to Exercise 1</a>\n",
        "\n",
        "<a name=\"ex1answer\">Answer to Exercise 1</a>"
      ]
    },
    {
      "cell_type": "code",
      "metadata": {
        "id": "GIR6MNofmu4p",
        "colab_type": "code",
        "colab": {}
      },
      "source": [
        "print(\"Number of pixels                               : \",logo.GetNumberOfPixels())\n",
        "print(\"Image size                                     : \",logo.GetSize())\n",
        "print(\"Image details                                  : \",logo.GetWidth(),logo.GetHeight(),logo.GetDepth())\n",
        "print(\"Image dimension                                : \",logo.GetDimension())\n",
        "print(\"Image number of components per pixel (depth)   : \",logo.GetNumberOfComponentsPerPixel())"
      ],
      "execution_count": 0,
      "outputs": []
    },
    {
      "cell_type": "markdown",
      "metadata": {
        "id": "yF2ni5EDmu4r",
        "colab_type": "text"
      },
      "source": [
        "<a href=\"#ex2\">Back to Exercise 2</a>\n",
        "\n",
        "<a name=\"ex2answer\">Answer to Exercise 2</a>"
      ]
    },
    {
      "cell_type": "code",
      "metadata": {
        "id": "8cWXVxsImu4s",
        "colab_type": "code",
        "colab": {}
      },
      "source": [
        "cpt = 1\n",
        "interpol_list = ['nearest','bilinear','bicubic','sinc']\n",
        "for interp in interpol_list:\n",
        "    plt.subplot((len(interpol_list))/2,2,cpt)\n",
        "    plt.imshow(eye,interpolation=interp)\n",
        "    plt.title(interp)\n",
        "    plt.axis('off')\n",
        "    cpt+=1"
      ],
      "execution_count": 0,
      "outputs": []
    },
    {
      "cell_type": "code",
      "metadata": {
        "id": "rIWwJqsNmu4u",
        "colab_type": "code",
        "colab": {}
      },
      "source": [
        "arr_rect=arr.copy()\n",
        "arr_rect[85:130,10]=(0,255,255) \n",
        "arr_rect[85:130,84]=(0,255,0)   \n",
        "arr_rect[85,10:84]=(255,0,0)  \n",
        "arr_rect[130,10:84]=(0,0,255) \n",
        "plt.imshow(arr_rect)"
      ],
      "execution_count": 0,
      "outputs": []
    },
    {
      "cell_type": "markdown",
      "metadata": {
        "id": "29SEdL3jmu4y",
        "colab_type": "text"
      },
      "source": [
        "<a href=\"#ex3\">Back to Exercise 3</a>\n",
        "\n",
        "<a name=\"ex3answer\">Answer to Exercise 3</a>"
      ]
    },
    {
      "cell_type": "code",
      "metadata": {
        "id": "tGIRHfYemu4z",
        "colab_type": "code",
        "colab": {}
      },
      "source": [
        "img = sitk.Image([20,20],sitk.sitkUInt8)\n",
        "nimg=sitk.GetArrayFromImage(img)\n",
        "nimg[:,:]=120\n",
        "plt.imshow(nimg)"
      ],
      "execution_count": 0,
      "outputs": []
    },
    {
      "cell_type": "code",
      "metadata": {
        "id": "FNImeVzDmu41",
        "colab_type": "code",
        "colab": {}
      },
      "source": [
        "ncrop=nimg[5:10,0:5]\n",
        "print(ncrop.shape)\n",
        "print(ncrop)\n",
        "ncrop"
      ],
      "execution_count": 0,
      "outputs": []
    },
    {
      "cell_type": "code",
      "metadata": {
        "id": "bD03n2bgmu44",
        "colab_type": "code",
        "colab": {}
      },
      "source": [
        "copie=np.copy(nimg)\n",
        "# Write capital letter 'I'\n",
        "copie[5:10,0:5]=[[0,225,225,225,0],\n",
        "                [0,0,225,0,0],\n",
        "                [0,0,225,0,0],\n",
        "                [0,0,225,0,0],\n",
        "                [0,225,225,225,0]]\n",
        "print(copie[5:10,0:5],\"\\n\")\n",
        "# Write capital letter 'A'\n",
        "copie[5:10,5:10]=[[0,230,230,230,0],\n",
        "                [0,230,0,230,0],\n",
        "                [0,230,230,230,0],\n",
        "                [0,230,0,230,0],\n",
        "                [0,230,0,230,0]]\n",
        "print(copie[5:10,5:10])"
      ],
      "execution_count": 0,
      "outputs": []
    },
    {
      "cell_type": "code",
      "metadata": {
        "id": "xLYfrjiKmu46",
        "colab_type": "code",
        "colab": {}
      },
      "source": [
        "plt.subplot(2,2,1)\n",
        "plt.imshow(copie,cmap='gray')\n",
        "plt.colorbar()\n",
        "\n",
        "plt.subplot(2,2,2)\n",
        "plt.imshow(copie,cmap='jet')\n",
        "plt.colorbar()\n",
        "\n",
        "plt.subplot(2,2,3)\n",
        "plt.imshow(copie,cmap='gray',vmin=220,vmax=230)\n",
        "plt.colorbar()\n",
        "\n",
        "plt.subplot(2,2,4)\n",
        "plt.imshow(copie,cmap='jet',vmin=220,vmax=230)\n",
        "plt.colorbar()"
      ],
      "execution_count": 0,
      "outputs": []
    },
    {
      "cell_type": "code",
      "metadata": {
        "id": "TdBVocqNmu48",
        "colab_type": "code",
        "colab": {}
      },
      "source": [
        "print(copie)\n",
        "sitk.WriteImage(sitk.GetImageFromArray(copie), os.path.join(OUTPUT_DIR, 'IA.png'))"
      ],
      "execution_count": 0,
      "outputs": []
    },
    {
      "cell_type": "code",
      "metadata": {
        "id": "qgEkF7xvOsu9",
        "colab_type": "code",
        "colab": {}
      },
      "source": [
        ""
      ],
      "execution_count": 0,
      "outputs": []
    }
  ]
}