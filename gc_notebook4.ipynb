{
  "nbformat": 4,
  "nbformat_minor": 0,
  "metadata": {
    "kernelspec": {
      "display_name": "Python 3",
      "language": "python",
      "name": "python3"
    },
    "language_info": {
      "codemirror_mode": {
        "name": "ipython",
        "version": 3
      },
      "file_extension": ".py",
      "mimetype": "text/x-python",
      "name": "python",
      "nbconvert_exporter": "python",
      "pygments_lexer": "ipython3",
      "version": "3.5.2"
    },
    "colab": {
      "name": "notebook4.ipynb",
      "provenance": [],
      "collapsed_sections": [],
      "toc_visible": true
    }
  },
  "cells": [
    {
      "cell_type": "markdown",
      "metadata": {
        "id": "pyWjW7YGp1uk",
        "colab_type": "text"
      },
      "source": [
        "# Notebook 4: Quantitative scintigraphy image analysis"
      ]
    },
    {
      "cell_type": "code",
      "metadata": {
        "id": "NLLt81LaNABw",
        "colab_type": "code",
        "colab": {}
      },
      "source": [
        "!git clone https://github.com/albertine/RPM_IBM_Module_IA.git"
      ],
      "execution_count": 0,
      "outputs": []
    },
    {
      "cell_type": "code",
      "metadata": {
        "id": "Z-ZW8EU_p1um",
        "colab_type": "code",
        "colab": {}
      },
      "source": [
        "# Import required packages\n",
        "import numpy as np\n",
        "import matplotlib.pyplot as plt\n",
        "import os\n",
        "\n",
        "# Install and import SimpleITK\n",
        "!pip install --upgrade SimpleITK\n",
        "import SimpleITK as sitk\n",
        "\n",
        "# Import some interactive IPython widgets\n",
        "# The interact function (ipywidgets.interact) automatically creates user interface (UI) controls for exploring code and data interactively.\n",
        "from ipywidgets import interact, interactive, fixed\n",
        "\n",
        "# Define current working directory\n",
        "PWD_DIR = os.getcwd()\n",
        "# Define output data directory\n",
        "OUTPUT_DIR = os.path.join(PWD_DIR,'output')\n",
        "# If it doesn't exist, create it\n",
        "if not os.path.exists(OUTPUT_DIR):\n",
        "    os.makedirs(OUTPUT_DIR)"
      ],
      "execution_count": 0,
      "outputs": []
    },
    {
      "cell_type": "markdown",
      "metadata": {
        "id": "JyijQINcyuk-",
        "colab_type": "text"
      },
      "source": [
        "## 1. Cortical renal scintigraphy using <sup>99m</sup>Tc-DMSA"
      ]
    },
    {
      "cell_type": "markdown",
      "metadata": {
        "id": "mwvQryDLp1uq",
        "colab_type": "text"
      },
      "source": [
        "### Background\n",
        "The renal scintigraphy using <sup>99m</sup>Tc-DMSA constitutes a non-invasive and functional method that is of appreciable interest in the qualitative study of renal parenchyma and the evaluation of the separate renal function.\n",
        "\n",
        "After <sup>99m</sup>Tc-DMSA is injected intravenously it slowly concentrates in the kidney where it mostly becomes bound to the proximal tubular cells. There is a low extraction efficiency by the kidneys, but 2 or 3 hours following injection there is sufficient uptake to obtain good images of the functioning renal cortex with low background."
      ]
    },
    {
      "cell_type": "markdown",
      "metadata": {
        "id": "dFbip6JkfbYR",
        "colab_type": "text"
      },
      "source": [
        "### Data analysis\n",
        "Usually, a percent differential renal function (DRF) is calculated from the posterior view by drawing regions of interest (ROI) around each kidney. A\n",
        "background ROI should also be drawn in any nearby non-renal area. The\n",
        "position of the background ROI makes very little difference except with very\n",
        "poorly functioning kidneys. Counts in the background region are used to\n",
        "subtract background counts from each kidney ROI (scaled for the relative\n",
        "size of the ROIs).\n",
        "\n",
        "DRF of each kidney is then calculated from the\n",
        "percentage of background subtracted counts in each kidney as follows:\n",
        "\n",
        "\\begin{equation}\n",
        "DRF_{right}=100\\times \\frac{Right\\ kidney\\ counts -background\\ counts}{(Right\\ kidney\\ counts -background\\ counts)+(Left\\ kidney\\ counts -background\\ counts)}\n",
        "\\end{equation}\n"
      ]
    },
    {
      "cell_type": "markdown",
      "metadata": {
        "id": "m1t5y-yjeo6p",
        "colab_type": "text"
      },
      "source": [
        "In the following sections, let's see how to apply a semi-automatic segmentation method on <sup>99m</sup>Tc-DMSA images so as to calculate DRF of each kidney"
      ]
    },
    {
      "cell_type": "markdown",
      "metadata": {
        "id": "aHzmfwEEffhJ",
        "colab_type": "text"
      },
      "source": [
        "### Pre-processing: data exploration"
      ]
    },
    {
      "cell_type": "code",
      "metadata": {
        "id": "9Tky8lDGp1ur",
        "colab_type": "code",
        "colab": {}
      },
      "source": [
        "# Change directory to folder /data/rein\n",
        "os.chdir('/content/RPM_IBM_Module_IA/data/rein/')"
      ],
      "execution_count": 0,
      "outputs": []
    },
    {
      "cell_type": "code",
      "metadata": {
        "id": "q3tlJkv7p1uv",
        "colab_type": "code",
        "colab": {}
      },
      "source": [
        "# Display all files stored in folder /data/rein\n",
        "whole_list = [file for file in os.listdir()]\n",
        "dcm_list   = [file for file in os.listdir() if file.endswith(\".dcm\")]\n",
        "print(\"Entire list: \", whole_list)\n",
        "print(\"Lis of .dcm files: \", dcm_list)"
      ],
      "execution_count": 0,
      "outputs": []
    },
    {
      "cell_type": "code",
      "metadata": {
        "id": "SmHjPPi9p1uy",
        "colab_type": "code",
        "colab": {}
      },
      "source": [
        "# Read the image corresponding to posterior view of 99m DMSA static scintigraphy \n",
        "dmsa_post=sitk.ReadImage('PosteriorStatic001_DS.dcm')\n",
        "# Image pixel type\n",
        "print(dmsa_post.GetPixelIDTypeAsString())"
      ],
      "execution_count": 0,
      "outputs": []
    },
    {
      "cell_type": "code",
      "metadata": {
        "id": "YlJnM8XPp1u1",
        "colab_type": "code",
        "colab": {}
      },
      "source": [
        "# Import pydicom package for inspecting and modifying DICOM files in an easy pythonic way\n",
        "!pip install --upgrade pydicom\n",
        "import pydicom\n",
        "\n",
        "# Read DICOM information\n",
        "ds=pydicom.filereader.dcmread('PosteriorStatic001_DS.dcm')\n",
        "\n",
        "# Print several useful DICOM dataset information \n",
        "print(\"Exam modality: \", ds.Modality)\n",
        "print(\"Image attributes - lines/rows (in pixels)\")\n",
        "print (ds[0x0028,0x0010])\n",
        "print (ds[0x0028,0x0011])\n",
        "print(\"Patient information (name, weight)\")\n",
        "print (ds[0x0010,0x0010])\n",
        "print (ds[0x0008,0x1030])\n",
        "print(\"Acquisition information\")\n",
        "print (ds[0x0008,0x1010])\n",
        "print (ds[0x0008,0x1030])\n",
        "print (ds[0x0009,0x1010])\n",
        "print (ds[0x0010,0x1030])\n",
        "print (ds[0x0010,0x0030])\n",
        "print(ds[0x0018,0x1242])\n",
        "print(ds[0x0054,0x0022][0][0x0018,0x1180])\n",
        "print(ds[0x0054,0x0022][0][0x0018,0x1181])\n",
        "# If you want to extract and display a specific DICOM tag value \n",
        "print(\"For instance, to only extract the Study Name value: \",ds[0x0009,0x1010].value)\n",
        "# If you want to print all DICOM tags\n",
        "#print(ds)"
      ],
      "execution_count": 0,
      "outputs": []
    },
    {
      "cell_type": "code",
      "metadata": {
        "id": "eN_rXlnBp1u7",
        "colab_type": "code",
        "colab": {}
      },
      "source": [
        "# Access to posterior view of 99m DMSA static scintigraphy image attributes\n",
        "print(\"Number of pixels: \",dmsa_post.GetNumberOfPixels())\n",
        "print(\"Image size: \",dmsa_post.GetSize())\n",
        "print(\"Image spacing (voxel size): \",dmsa_post.GetSpacing())\n",
        "print(\"Image details: \",dmsa_post.GetWidth(),dmsa_post.GetHeight(),dmsa_post.GetDepth())\n",
        "print(\"Image dimensions: \",dmsa_post.GetDimension())\n",
        "print(\"Image depth (number of components): \",dmsa_post.GetNumberOfComponentsPerPixel())"
      ],
      "execution_count": 0,
      "outputs": []
    },
    {
      "cell_type": "code",
      "metadata": {
        "id": "KlcI6SOep1u9",
        "colab_type": "code",
        "colab": {}
      },
      "source": [
        "# Access to posterior view of 99m DMSA static scintigraphy image basic statistics\n",
        "stats = sitk.StatisticsImageFilter()\n",
        "stats.Execute(dmsa_post)\n",
        "print(stats)\n",
        "# Print only minimum and maximum intensity values\n",
        "print(\"Image minimum intensity: \", stats.GetMinimum())\n",
        "print(\"Image maximum intensity: \", stats.GetMaximum())"
      ],
      "execution_count": 0,
      "outputs": []
    },
    {
      "cell_type": "code",
      "metadata": {
        "id": "OswuWtTGp1vA",
        "colab_type": "code",
        "colab": {}
      },
      "source": [
        "# Conversion of posterior view image to NumPy array\n",
        "dmsa_post_arr = sitk.GetArrayFromImage(dmsa_post)\n",
        "print(dmsa_post_arr.shape)\n",
        "# Remove the third dimension using reshape function\n",
        "dmsa_post_arr = dmsa_post_arr.reshape(dmsa_post.GetWidth(),dmsa_post.GetHeight())\n",
        "print(dmsa_post_arr.shape)"
      ],
      "execution_count": 0,
      "outputs": []
    },
    {
      "cell_type": "code",
      "metadata": {
        "id": "WvhIrf9lp1vD",
        "colab_type": "code",
        "colab": {}
      },
      "source": [
        "# Display posterior view image using different color maps\n",
        "cpt = 1\n",
        "color_list = ['viridis','jet','binary','gray']\n",
        "plt.subplots(2, 2, figsize=(10, 10)) # we force a 10x10 size for display\n",
        "for color in color_list:\n",
        "    plt.subplot((len(color_list))/2,2,cpt)\n",
        "    plt.imshow(dmsa_post_arr,cmap=color)\n",
        "    plt.title(color)\n",
        "    plt.axis('off')\n",
        "    cpt+=1"
      ],
      "execution_count": 0,
      "outputs": []
    },
    {
      "cell_type": "code",
      "metadata": {
        "id": "IEKToZKlp1vG",
        "colab_type": "code",
        "colab": {}
      },
      "source": [
        "# Plot the image intensity histogram using different number of bins and range values\n",
        "plt.subplots(2, 2, figsize=(10, 10))\n",
        "plt.subplot(2,2,1)\n",
        "\n",
        "# Hist method computes and draws the histogram of x. \n",
        "# The return value is a tuple (n, bins, patches) or ([n0, n1, ...], bins, [patches0, patches1,...]) if the input contains multiple data \n",
        "# Flatten method returns a copy of the array collapsed into one dimension\n",
        "plt.hist(dmsa_post_arr.flatten(),bins=256,range=(stats.GetMinimum(),stats.GetMaximum()))\n",
        "plt.title(\"256 bins, range 0-512\")\n",
        "plt.subplot(2,2,2)\n",
        "plt.hist(dmsa_post_arr.flatten(),256,range=(0,256))\n",
        "plt.title(\"256 bins, range 0-256\")\n",
        "plt.subplot(2,2,3)\n",
        "plt.hist(dmsa_post_arr.flatten(),64,[0,256])\n",
        "plt.title(\"64 bins, range 0-256\")\n",
        "plt.subplot(2,2,4)\n",
        "plt.hist(dmsa_post_arr.flatten(),32,[0,64])\n",
        "plt.title(\"32 bins, range 0-64\")\n",
        "plt.suptitle('Histograms',fontsize=20)\n",
        "plt.tight_layout()\n",
        "plt.subplots_adjust(top=0.9)\n",
        "plt.show()"
      ],
      "execution_count": 0,
      "outputs": []
    },
    {
      "cell_type": "code",
      "metadata": {
        "id": "-PKsWKISp1vJ",
        "colab_type": "code",
        "colab": {}
      },
      "source": [
        "# Let's see how to perform a basic thresholding of 99m DMSA static scintigraphy image attributes\n",
        "# Based on this previous histogram analysis, we can take 80 as threshold\n",
        "print(\"Maximum intensity value in image is\",dmsa_post_arr.max(),'\\n')\n",
        "dmsa_post_bin_arr = dmsa_post_arr>80\n",
        "print(dmsa_post_bin_arr)\n",
        "# dmsa_post_bin_arr only contains booleans (true or false) for each pixel\n",
        "# for each pixel, dmsa_post_bin_arr answers the question is value > threshold ?\n",
        "# if value > threshold then condition is true\n",
        "# if value < threshold then condition is false"
      ],
      "execution_count": 0,
      "outputs": []
    },
    {
      "cell_type": "code",
      "metadata": {
        "id": "BxembE6bp1vM",
        "colab_type": "code",
        "colab": {}
      },
      "source": [
        "# We can use plt.imshow because Python considers two intensity values\n",
        "# One for True and another one for False\n",
        "plt.imshow(dmsa_post_bin_arr)"
      ],
      "execution_count": 0,
      "outputs": []
    },
    {
      "cell_type": "code",
      "metadata": {
        "id": "YJIKaVoIp1vP",
        "colab_type": "code",
        "colab": {}
      },
      "source": [
        "# Overlay of the two images (dmsa_post and its mask corresponding to a threshold of 80)\n",
        "plt.imshow(dmsa_post_arr)\n",
        "dmsa_post_bin_arr_mask=np.ma.masked_where(dmsa_post_bin_arr==True, dmsa_post_bin_arr)\n",
        "plt.imshow(dmsa_post_bin_arr_mask, alpha=0.7)"
      ],
      "execution_count": 0,
      "outputs": []
    },
    {
      "cell_type": "code",
      "metadata": {
        "id": "Pq30Cyymp1vS",
        "colab_type": "code",
        "colab": {}
      },
      "source": [
        "# Let's try several absolute threshold values\n",
        "thresh_abs_list=[20,30,40,50,60,80]\n",
        "cpt = 1\n",
        "plt.subplots(2,3,figsize=(15,10))\n",
        "for thresh_abs in thresh_abs_list:\n",
        "    plt.subplot(2,3,cpt)\n",
        "    plt.imshow(dmsa_post_arr>thresh_abs)\n",
        "    plt.title(\"threshold value : \"+str(thresh_abs))\n",
        "    plt.axis('off')\n",
        "    cpt+=1"
      ],
      "execution_count": 0,
      "outputs": []
    },
    {
      "cell_type": "code",
      "metadata": {
        "id": "2DmaOphOp1vV",
        "colab_type": "code",
        "colab": {}
      },
      "source": [
        "# Let's try several relative threshold values\n",
        "thresh_rel_list=[.05,.1,.3,.5,.6,.8]\n",
        "cpt = 1\n",
        "plt.subplots(2,3,figsize=(15,10))\n",
        "for thresh_rel in thresh_rel_list:\n",
        "    plt.subplot(2,3,cpt)\n",
        "    plt.imshow(dmsa_post_arr>(dmsa_post_arr.max()*thresh_rel))\n",
        "    plt.title(\"Relative threshold: \"+str(thresh_rel))\n",
        "    plt.axis('off')\n",
        "    cpt+=1"
      ],
      "execution_count": 0,
      "outputs": []
    },
    {
      "cell_type": "code",
      "metadata": {
        "id": "_3voWIcjp1vX",
        "colab_type": "code",
        "colab": {}
      },
      "source": [
        "# Source image to be processed: dmsa_post (SimpleITK image) or dmsa_post_arr (NumPy array)\n",
        "# We apply a mask corresponding to the thresholding binarisation previously obtained\n",
        "# Arbitrarily, we'll take a relative threshold value of 50% maximum intensity value\n",
        "thresh50 = 0.5 * dmsa_post_arr.max()\n",
        "mask50 = (dmsa_post_arr > thresh50) \n",
        "dmsa_post50 = dmsa_post_arr * thresh50 # set each pixel outside the mask to zero (because False)\n",
        "plt.imshow(dmsa_post50)"
      ],
      "execution_count": 0,
      "outputs": []
    },
    {
      "cell_type": "code",
      "metadata": {
        "id": "nXGdIM8Fp1va",
        "colab_type": "code",
        "colab": {}
      },
      "source": [
        "# Apply this mask for different relative threshold values but now keep the intensity values\n",
        "# Let's try several relative threshold values\n",
        "thresh_rel_list=[.05,.1,.2,.3,.5,.7]\n",
        "cpt = 1\n",
        "plt.subplots(2,3,figsize=(15,10))\n",
        "for thresh_rel in thresh_rel_list:\n",
        "    plt.subplot(2,3,cpt)\n",
        "    plt.imshow(dmsa_post_arr*(dmsa_post_arr>(dmsa_post_arr.max()*thresh_rel)))\n",
        "    plt.title(\"Relative threshold: \"+str(thresh_rel))\n",
        "    plt.axis('off')\n",
        "    cpt+=1"
      ],
      "execution_count": 0,
      "outputs": []
    },
    {
      "cell_type": "markdown",
      "metadata": {
        "id": "MFd2E96UeYFz",
        "colab_type": "text"
      },
      "source": [
        "Based on this data exploration step, a relative threshold of 20% seems to be a good value to perform a semi-automatic segmentation of each kidney"
      ]
    },
    {
      "cell_type": "markdown",
      "metadata": {
        "colab_type": "text",
        "id": "mJZZT84pYr6m"
      },
      "source": [
        "### Quantitative analysis"
      ]
    },
    {
      "cell_type": "markdown",
      "metadata": {
        "id": "fppt7nvEfz_x",
        "colab_type": "text"
      },
      "source": [
        "**First step**: we can divide the image in two along horizontal direction (using a vertical separation...)\n",
        "\n",
        "Hence, we obtain two posterior view 99m Tc DMSA scintigraphy images, one for right kidney and another one for left kidney"
      ]
    },
    {
      "cell_type": "code",
      "metadata": {
        "id": "hpsy8OVQp1vd",
        "colab_type": "code",
        "colab": {}
      },
      "source": [
        "width_dmsa = dmsa_post.GetWidth()\n",
        "\n",
        "Lkidney=dmsa_post_arr[:,0:int(width_dmsa/2)]\n",
        "Rkidney=dmsa_post_arr[:,int(width_dmsa/2):width_dmsa]\n",
        "\n",
        "plt.subplots(1,2,figsize=(5,5))\n",
        "plt.subplot(1,2,1)\n",
        "plt.imshow(Lkidney)\n",
        "plt.subplot(1,2,2)\n",
        "plt.imshow(Rkidney)"
      ],
      "execution_count": 0,
      "outputs": []
    },
    {
      "cell_type": "markdown",
      "metadata": {
        "id": "nNOF0hRjf-0G",
        "colab_type": "text"
      },
      "source": [
        "**Second step**: quantitative analysis in each ROI (Right and Left) using Pandas package"
      ]
    },
    {
      "cell_type": "markdown",
      "metadata": {
        "id": "fQuvUogJf-tN",
        "colab_type": "text"
      },
      "source": [
        "**What's Pandas for?**\n",
        "\n",
        "This tool is essentially your data’s home. Through pandas, you get acquainted with your data by cleaning, transforming, and analyzing it.\n",
        "\n",
        "For example, say you want to explore a dataset stored in a CSV on your computer. Pandas will extract the data from that CSV into a DataFrame — a table, basically — then let you do things like:\n",
        "\n",
        "* Calculate statistics and answer questions about the data, like\n",
        " * What's the average, median, max, or min of each column?\n",
        " * Does column A correlate with column B?\n",
        " * What does the distribution of data in column C look like?\n",
        "* Clean the data by doing things like removing missing values and filtering rows or columns by some criteria\n",
        "* Visualize the data with help from Matplotlib. Plot bars, lines, histograms, bubbles, and more.\n",
        "* Store the cleaned, transformed data back into a CSV, other file or database\n",
        "\n",
        "Before you jump into the modeling or the complex visualizations you need to have a good understanding of the nature of your dataset and pandas is the best avenue through which to do that."
      ]
    },
    {
      "cell_type": "code",
      "metadata": {
        "id": "gNraWHYSp1vg",
        "colab_type": "code",
        "colab": {}
      },
      "source": [
        "import pandas as pd\n",
        "\n",
        "imgLkidney=sitk.GetImageFromArray(Lkidney)\n",
        "imgLkidney.SetSpacing([dmsa_post.GetSpacing()[0], dmsa_post.GetSpacing()[1],1])\n",
        "imgRkidney=sitk.GetImageFromArray(Rkidney)\n",
        "imgRkidney.SetSpacing([dmsa_post.GetSpacing()[0], dmsa_post.GetSpacing()[1],1])\n",
        "imgTotal=sitk.GetImageFromArray(dmsa_post_arr)\n",
        "\n",
        "# Let's use 20% as a relative threshold to semi-automatically draw ROI around each kidney and 5% for background ROI\n",
        "thresh20 = 0.2 * dmsa_post_arr.max()\n",
        "thresh5 = 0.05 * dmsa_post_arr.max()\n",
        "segL=sitk.BinaryThreshold(imgLkidney, upperThreshold=thresh20, insideValue=0, outsideValue=1)\n",
        "segR=sitk.BinaryThreshold(imgRkidney, upperThreshold=thresh20, insideValue=0, outsideValue=1)\n",
        "segback=sitk.BinaryThreshold(imgTotal, lowerThreshold=thresh5, upperThreshold=thresh20, insideValue=1, outsideValue=0)\n",
        "\n",
        "# If you want, you can write all the ROIs stored as a nii (or mha) files  \n",
        "#output_file_name = os.path.join(OUTPUT_DIR, 'segback.nii') \n",
        "#sitk.WriteImage(segback, output_file_name)\n",
        "\n",
        "# LabelIntensityStatisticsImageFilter is a convenient class to convert a label image to a label map and valuate the statistics attributes at once\n",
        "intensity_stats=sitk.LabelIntensityStatisticsImageFilter()\n",
        "\n",
        "# Home-made function to compute and display standard statistics derived from a specific ROI\n",
        "def show_stats(seg,img,file):\n",
        "    intensity_stats=sitk.LabelIntensityStatisticsImageFilter()\n",
        "    intensity_stats.Execute(seg,img)\n",
        "    for i in intensity_stats.GetLabels():\n",
        "        #print(intensity_stats.GetMean(i), intensity_stats.GetPhysicalSize(i))\n",
        "        stats_list={\"Volume (mm^3)\": [intensity_stats.GetPhysicalSize(i)],\n",
        "                    \"Volume (number of pixels)\": [intensity_stats.GetNumberOfPixels(i)],\n",
        "                    \"Intensity mean\": [intensity_stats.GetMean(i)],\n",
        "                    \"Intensity standard deviation\": [intensity_stats.GetStandardDeviation(i)],\n",
        "                    \"Intensity max\": [intensity_stats.GetMaximum(i)],\n",
        "                    \"Intensity min\": [intensity_stats.GetMinimum(i)],\n",
        "                    \"Intensity median\": [intensity_stats.GetMedian(i)],\n",
        "                    }\n",
        "    stats=pd.DataFrame(stats_list, index=[intensity_stats.GetLabels()[0]])\n",
        "    stats.to_csv(file, sep='\\t')\n",
        "    return stats"
      ],
      "execution_count": 0,
      "outputs": []
    },
    {
      "cell_type": "code",
      "metadata": {
        "id": "422Ke0oCp1vk",
        "colab_type": "code",
        "colab": {}
      },
      "source": [
        "# Show stats in left kidney\n",
        "interact(show_stats, seg=fixed(segL), img=fixed(imgLkidney), file='Lkidney');"
      ],
      "execution_count": 0,
      "outputs": []
    },
    {
      "cell_type": "code",
      "metadata": {
        "id": "hLbsd55MX7o7",
        "colab_type": "code",
        "colab": {}
      },
      "source": [
        "# Show stats in right kidney\n",
        "interact(show_stats, seg=fixed(segR), img=fixed(imgRkidney), file='Rkidney');"
      ],
      "execution_count": 0,
      "outputs": []
    },
    {
      "cell_type": "code",
      "metadata": {
        "id": "5Fs2Ui3mp1vp",
        "colab_type": "code",
        "colab": {}
      },
      "source": [
        "# Show stats in background\n",
        "interact(show_stats, seg=fixed(segback), img=fixed(imgTotal), file='background');"
      ],
      "execution_count": 0,
      "outputs": []
    },
    {
      "cell_type": "markdown",
      "metadata": {
        "id": "N4w1r255vaJ9",
        "colab_type": "text"
      },
      "source": [
        "## Exercise 1\n",
        "Derive from the above-displayed image statistics DRF of each kidney and check you obtain values between 45% and 55%, range representative of a normal renal function"
      ]
    },
    {
      "cell_type": "code",
      "metadata": {
        "id": "C3CHqxuNOuaQ",
        "colab_type": "code",
        "colab": {}
      },
      "source": [
        ""
      ],
      "execution_count": 0,
      "outputs": []
    },
    {
      "cell_type": "markdown",
      "metadata": {
        "id": "ZKrvm4_bvfih",
        "colab_type": "text"
      },
      "source": [
        "A mentioned in the Renal Cortical Scintigraphy (DMSA scan) Clinical Guidelines published by the British nuclear medicine society, if an anterior view has also been obtained, background subtracted kidney\n",
        "counts should also be calculated from this image. The geometric mean of\n",
        "the posterior and anterior background subtracted counts in each kidney\n",
        "should then be calculated.\n",
        "\\begin{equation}\n",
        "Geometric\\ Mean\\ Count = \\sqrt {Posterior\\ Count \\times Anterior Count}\n",
        "\\end{equation}\n",
        "The geometric mean DRF should be calculated using these geometric mean\n",
        "counts. This gives an approximate correction for the fact that kidneys may lie\n",
        "at different depths. It is particularly important for ectopic or malrotated\n",
        "kidneys."
      ]
    },
    {
      "cell_type": "markdown",
      "metadata": {
        "id": "rwqEIJjKwA8G",
        "colab_type": "text"
      },
      "source": [
        "## Exercise 2\n",
        "Calculate geometric mean DRF of each kidney using geometric mean counts derived (both kidney and background) from the posterior and anterior views of <sup>99m</sup>Tc-DMSA scintigraphy"
      ]
    },
    {
      "cell_type": "code",
      "metadata": {
        "id": "1mCsN1i43qVi",
        "colab_type": "code",
        "colab": {}
      },
      "source": [
        ""
      ],
      "execution_count": 0,
      "outputs": []
    },
    {
      "cell_type": "markdown",
      "metadata": {
        "id": "BAo68l8R1zaE",
        "colab_type": "text"
      },
      "source": [
        "## 2. <sup>99m</sup>Tc-sestamibi and iodine 123 parathyroid scintigraphy"
      ]
    },
    {
      "cell_type": "markdown",
      "metadata": {
        "id": "JGCm4yDop1vr",
        "colab_type": "text"
      },
      "source": [
        "### Background\n",
        "<sup>99m</sup>Tc-sestamibi is an isonitrile radionuclide imaging agent that, when used with subtraction iodine 123 thyroid scans, has the potential for imaging abnormal parathyroid glands.\n",
        "\n",
        "Sodium iodine 123 is administered intravenously, followed 2 hours later by <sup>99m</sup>Tc-sestamibi. The patient is then positioned for imaging. The distribution images of <sup>99m</sup>Tc-sestamibi and <sup>123</sup>I are simultaneously recorded. Three to 5 minutes after <sup>99m</sup>Tc-sestamibi injection, an anterior view of the neck and mediastinum is acquired for 5 minutes to detect any ectopic uptake, from the angle of the mandible to the heart. The parallel-holes collimator is then replaced by a pinhole collimator and an anterior view of the thyroid region was obtained for 10 minutes. The <sup>123</sup>I image is subtracted from the <sup>99m</sup>Tc-sestamibi image. \n",
        "\n",
        "Given there will be more counts in the thyroid on the <sup>123</sup>I image, it must be matched to the <sup>99m</sup>Tc image before subtraction and a scaling factor is used so that the counts in the subtraction image are reduced by this factor, pixel by pixel.  The scaling factor is calculated\n",
        "from the ratio of these two values. This adjusted\n",
        "image is then subtracted from the 99mTc image\n",
        "and the results displayed as a new image.  "
      ]
    },
    {
      "cell_type": "code",
      "metadata": {
        "id": "GJ0IvcNGp1vs",
        "colab_type": "code",
        "colab": {}
      },
      "source": [
        "# Change directory to /data/para\n",
        "os.chdir('/content/RPM_IBM_Module_IA/data/para')"
      ],
      "execution_count": 0,
      "outputs": []
    },
    {
      "cell_type": "markdown",
      "metadata": {
        "id": "Vx-HejuA5_GP",
        "colab_type": "text"
      },
      "source": [
        "## Exercise 3\n",
        "\n",
        "*   Display all files stored in folder /data/para\n",
        "*   Read and display the PINHOLE_Tc99m001_DS.dcm image\n",
        "*   Read and display corresponding DICOM information and image attributes\n",
        "*   Find a specific DICOM tag relative to dual-tracer imaging technique\n",
        "*   Separate and display image obtained for each tracer as well as their histograms\n",
        "*   Compute the ratio between the <sup>99m</sup>Tc-sestamibi and the 123 iodine images (have a look at the cumulative sum function - cumsum - in NumPy) \n",
        "*   Apply this scaling factor to the 123 iodine image and substract it from <sup>99m</sup>Tc image\n",
        "\n"
      ]
    },
    {
      "cell_type": "code",
      "metadata": {
        "id": "9e_H_TEjAdYK",
        "colab_type": "code",
        "colab": {}
      },
      "source": [
        ""
      ],
      "execution_count": 0,
      "outputs": []
    },
    {
      "cell_type": "markdown",
      "metadata": {
        "id": "Ox2fRGcRAeTR",
        "colab_type": "text"
      },
      "source": [
        "<a href=\"#ex3answer\">Answer to exercise 3</a>"
      ]
    },
    {
      "cell_type": "markdown",
      "metadata": {
        "id": "zdS0A8pz2nez",
        "colab_type": "text"
      },
      "source": [
        "### Pre-processing: data exploration"
      ]
    },
    {
      "cell_type": "code",
      "metadata": {
        "id": "Aa379nVNp1vu",
        "colab_type": "code",
        "colab": {}
      },
      "source": [
        "# Display all files stored in folder /data/para\n",
        "liste_complete = [file for file in os.listdir()]\n",
        "liste_dcm      = [file for file in os.listdir() if file.endswith(\".dcm\")]\n",
        "print(\"Entire list: \",liste_complete)\n",
        "print(\"Lis of .dcm files: \",liste_dcm)"
      ],
      "execution_count": 0,
      "outputs": []
    },
    {
      "cell_type": "code",
      "metadata": {
        "id": "SXNxIY3kp1vw",
        "colab_type": "code",
        "colab": {}
      },
      "source": [
        "# Read and display image\n",
        "para_dual=sitk.ReadImage('PINHOLE_Tc99m001_DS.dcm')\n",
        "para_dual_arr=sitk.GetArrayFromImage(para_dual)\n",
        "print(para_dual_arr.shape)\n",
        "plt.subplots(1,2, figsize=(10,10))\n",
        "plt.subplot(1,2,1)\n",
        "plt.imshow(para_dual_arr[0])\n",
        "plt.subplot(1,2,2)\n",
        "plt.imshow(para_dual_arr[1])"
      ],
      "execution_count": 0,
      "outputs": []
    },
    {
      "cell_type": "code",
      "metadata": {
        "id": "zaYRCPiUp1vz",
        "colab_type": "code",
        "colab": {}
      },
      "source": [
        "# Read DICOM information\n",
        "ds=pydicom.filereader.dcmread('PINHOLE_Tc99m001_DS.dcm')\n",
        "\n",
        "# Print several useful DICOM dataset information \n",
        "print(\"Exam modality: \", ds.Modality)\n",
        "print(\"Image attributes - lines/rows (in pixels)\")\n",
        "print (ds[0x0028,0x0010])\n",
        "print (ds[0x0028,0x0011])\n",
        "print(\"Patient information (name, weight)\")\n",
        "print (ds[0x0010,0x0010])\n",
        "print (ds[0x0008,0x1030])\n",
        "print(\"Acquisition information\")\n",
        "print (ds[0x0008,0x1010])\n",
        "print (ds[0x0008,0x1030])\n",
        "print (ds[0x0009,0x1010])\n",
        "print (ds[0x0010,0x1030])\n",
        "print (ds[0x0010,0x0030])\n",
        "print(ds[0x0018,0x1242])\n",
        "print(ds[0x0054,0x0022][0][0x0018,0x1180])\n",
        "print(ds[0x0054,0x0022][0][0x0018,0x1181])\n",
        "# If you want to extract and display a specific DICOM tag value \n",
        "print(\"For instance, to only extract the Study Name value: \",ds[0x0009,0x1010].value)\n",
        "# Print all DICOM tags\n",
        "#print(ds)"
      ],
      "execution_count": 0,
      "outputs": []
    },
    {
      "cell_type": "code",
      "metadata": {
        "id": "PyAeWsGQp1v1",
        "colab_type": "code",
        "colab": {}
      },
      "source": [
        "# Image attributes\n",
        "print(\"Number of pixels: \",para_dual.GetNumberOfPixels())\n",
        "print(\"Image size: \",para_dual.GetSize())\n",
        "print(\"Image spacing (voxel size): \",para_dual.GetSpacing())\n",
        "print(\"Image details: \",para_dual.GetWidth(),para_dual.GetHeight(),para_dual.GetDepth())\n",
        "print(\"Image dimensions: \",para_dual.GetDimension())\n",
        "print(\"Image depth (number of components): \",para_dual.GetNumberOfComponentsPerPixel())"
      ],
      "execution_count": 0,
      "outputs": []
    },
    {
      "cell_type": "code",
      "metadata": {
        "id": "Vfz9yDjUp1v3",
        "colab_type": "code",
        "colab": {}
      },
      "source": [
        "# Specific but important other image attributes\n",
        "print(\"Number of energy windows: \",ds.NumberOfEnergyWindows)\n",
        "print(\"IMPORTANT: according to the following tag \")\n",
        "print(ds[0x0011,0x100d])\n",
        "print(\"the first image corresponds to the first tracer marked with 99mTc (MIBI-Tc)\")\n",
        "print(\"the second tracer is iodine-123\")\n"
      ],
      "execution_count": 0,
      "outputs": []
    },
    {
      "cell_type": "markdown",
      "metadata": {
        "id": "ko1qgXRN2OH7",
        "colab_type": "text"
      },
      "source": [
        "### Using of dual-isotope subtraction method\n",
        "**First step**: separation of the 2 images"
      ]
    },
    {
      "cell_type": "code",
      "metadata": {
        "id": "bEF74STIp1v9",
        "colab_type": "code",
        "colab": {}
      },
      "source": [
        "# Using of dual-isotope subtraction method\n",
        "print(sitk.GetArrayFromImage(para_dual).shape)\n",
        "para_t1 = sitk.GetArrayFromImage(para_dual)[0]\n",
        "para_t2 = sitk.GetArrayFromImage(para_dual)[1]\n",
        "#para_t1 = para_t1.reshape(256,256)"
      ],
      "execution_count": 0,
      "outputs": []
    },
    {
      "cell_type": "code",
      "metadata": {
        "id": "DopWrAEGp1wA",
        "colab_type": "code",
        "colab": {}
      },
      "source": [
        "plt.subplots(2,2,figsize=(10,10))\n",
        "plt.subplot(2,2,1)\n",
        "plt.title(\"99mTc-sestamibi\")\n",
        "plt.imshow(para_t1,aspect='auto')\n",
        "plt.subplot(2,2,2)\n",
        "plt.imshow(para_t2,aspect='auto')\n",
        "plt.title(\"123 iodine\")\n",
        "plt.subplot(2,2,3)\n",
        "plt.hist(para_t1.flatten(),200,[0,200]); plt.show\n",
        "plt.subplot(2,2,4)\n",
        "plt.hist(para_t2.flatten(),200,[0,200]); plt.show"
      ],
      "execution_count": 0,
      "outputs": []
    },
    {
      "cell_type": "markdown",
      "metadata": {
        "id": "x9T3gKUD2y52",
        "colab_type": "text"
      },
      "source": [
        "**Second step**: computation of the ratio between the two images <sup>99m</sup>Tc-sestamibi and 123 iodine"
      ]
    },
    {
      "cell_type": "code",
      "metadata": {
        "id": "qNeEcLq9p1wD",
        "colab_type": "code",
        "colab": {}
      },
      "source": [
        "# Sum of all counts received for the first tracer (99mTc-sestamibi)\n",
        "# Cumsum function returns the cumulative sum of the elements along a given axis\n",
        "para_t1_sum=para_t1.cumsum()[-1]\n",
        "# and for the second tracer (123 I)\n",
        "para_t2_sum=para_t2.cumsum()[-1]\n",
        "# Ratio\n",
        "para_t1t2_ratio=para_t1_sum/para_t2_sum\n",
        "print(para_t1_sum,para_t2_sum,para_t1t2_ratio)"
      ],
      "execution_count": 0,
      "outputs": []
    },
    {
      "cell_type": "markdown",
      "metadata": {
        "id": "IGv5pcEz3Gc3",
        "colab_type": "text"
      },
      "source": [
        "**Third step**: computation of subtraction image (<sup>99m</sup>Tc-sestamibi - 123 Iodine)"
      ]
    },
    {
      "cell_type": "code",
      "metadata": {
        "id": "qU6_yyQEp1wF",
        "colab_type": "code",
        "colab": {}
      },
      "source": [
        "# Computation of subtraction image (99mTc-sestamibi - 123 Iodine)\n",
        "# * 100 allows working with floats\n",
        "substract=100*para_t1-100*para_t1t2_ratio*para_t2\n",
        "print(substract.max())\n",
        "\n",
        "plt.subplots(1,2,figsize=(10,5))\n",
        "plt.subplot(1,2,1)\n",
        "plt.imshow(substract,vmin=0,vmax=5000,aspect='auto')\n",
        "plt.subplot(1,2,2)\n",
        "plt.hist(substract.flatten(),256,[0,5000]); plt.show"
      ],
      "execution_count": 0,
      "outputs": []
    },
    {
      "cell_type": "code",
      "metadata": {
        "id": "tttjrhWtU71e",
        "colab_type": "code",
        "colab": {}
      },
      "source": [
        ""
      ],
      "execution_count": 0,
      "outputs": []
    }
  ]
}