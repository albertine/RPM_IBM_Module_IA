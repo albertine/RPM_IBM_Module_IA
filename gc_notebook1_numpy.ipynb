{
  "nbformat": 4,
  "nbformat_minor": 0,
  "metadata": {
    "kernelspec": {
      "display_name": "Python 3",
      "language": "python",
      "name": "python3"
    },
    "language_info": {
      "codemirror_mode": {
        "name": "ipython",
        "version": 3
      },
      "file_extension": ".py",
      "mimetype": "text/x-python",
      "name": "python",
      "nbconvert_exporter": "python",
      "pygments_lexer": "ipython3",
      "version": "3.5.2"
    },
    "colab": {
      "name": "notebook1-numpy.ipynb",
      "provenance": [],
      "collapsed_sections": []
    }
  },
  "cells": [
    {
      "cell_type": "markdown",
      "metadata": {
        "id": "09hiPIvDJ9OT",
        "colab_type": "text"
      },
      "source": [
        "# Overview of Python (2)"
      ]
    },
    {
      "cell_type": "markdown",
      "metadata": {
        "id": "c3fWcdGNJ9OY",
        "colab_type": "text"
      },
      "source": [
        "\"Portable, powerful, and a breeze to use\", Python is a popular, open-source programming language used for both scripting applications and standalone programs. Python can be used to do pretty much anything."
      ]
    },
    {
      "cell_type": "markdown",
      "metadata": {
        "id": "jRFfCqxMJ9OZ",
        "colab_type": "text"
      },
      "source": [
        "## The `NumPy` module\n",
        "\n",
        "- Arrays are provided by a separate _module_ called NumPy.\n",
        "\n",
        "- NumPy is shortened from Numerical Python, it is the most universal and versatile library both for pros and beginners. \n",
        "\n",
        "- Using this tool we are up to operate with multi-dimensional arrays and matrices with ease and comfort. \n",
        "\n",
        "- Such functions like linear algebra operations and numerical conversions are also available.\n",
        "\n",
        "- We can import the module and then give it a shorter _alias_."
      ]
    },
    {
      "cell_type": "code",
      "metadata": {
        "id": "nHmDLoZqJ9Oc",
        "colab_type": "code",
        "colab": {}
      },
      "source": [
        "import numpy as np"
      ],
      "execution_count": 0,
      "outputs": []
    },
    {
      "cell_type": "markdown",
      "metadata": {
        "id": "QnBeQblBJ9Ok",
        "colab_type": "text"
      },
      "source": [
        "- We can now use the functions defined in this package by prefixing them with `np`.  \n",
        "\n",
        "- The function `array()` creates an array given a list."
      ]
    },
    {
      "cell_type": "markdown",
      "metadata": {
        "id": "Vvdzr2EcJ9Om",
        "colab_type": "text"
      },
      "source": [
        "### Creating an array\n",
        "\n",
        "- We can create an array from a list by using the `array()` function defined in the `numpy` module:"
      ]
    },
    {
      "cell_type": "code",
      "metadata": {
        "id": "PgVXM-RnJ9Oo",
        "colab_type": "code",
        "colab": {}
      },
      "source": [
        "x = np.array([0, 1, 2, 3, 4])\n",
        "x"
      ],
      "execution_count": 0,
      "outputs": []
    },
    {
      "cell_type": "code",
      "metadata": {
        "id": "MpQ5TjNGJ9Ow",
        "colab_type": "code",
        "colab": {}
      },
      "source": [
        "type(x)"
      ],
      "execution_count": 0,
      "outputs": []
    },
    {
      "cell_type": "markdown",
      "metadata": {
        "id": "Rw0Ryca9J9O2",
        "colab_type": "text"
      },
      "source": [
        "### Functions over arrays\n",
        "\n",
        "- When we use arithmetic operators on arrays, we create a new array with the result of applying the operator to each element."
      ]
    },
    {
      "cell_type": "code",
      "metadata": {
        "id": "7mG8jpUnJ9O5",
        "colab_type": "code",
        "colab": {}
      },
      "source": [
        "y = x * 2\n",
        "y"
      ],
      "execution_count": 0,
      "outputs": []
    },
    {
      "cell_type": "markdown",
      "metadata": {
        "id": "GYDiezlrJ9O9",
        "colab_type": "text"
      },
      "source": [
        "- The same goes for functions:"
      ]
    },
    {
      "cell_type": "code",
      "metadata": {
        "id": "WAl87U5eJ9O_",
        "colab_type": "code",
        "colab": {}
      },
      "source": [
        "x = np.array([-1, 2, 3, -4])\n",
        "y = abs(x)\n",
        "y"
      ],
      "execution_count": 0,
      "outputs": []
    },
    {
      "cell_type": "markdown",
      "metadata": {
        "id": "Nz-p7AO8J9PH",
        "colab_type": "text"
      },
      "source": [
        "### Descriptive statistics"
      ]
    },
    {
      "cell_type": "code",
      "metadata": {
        "id": "RMmnAkisJ9PI",
        "colab_type": "code",
        "colab": {}
      },
      "source": [
        "data = np.array([2.0 , 3.2 , 4.6 , 8.6 , 3.6 , 3])\n",
        "data"
      ],
      "execution_count": 0,
      "outputs": []
    },
    {
      "cell_type": "code",
      "metadata": {
        "id": "6ZChl0UbJ9PM",
        "colab_type": "code",
        "colab": {}
      },
      "source": [
        "print(\"data values: \",data)\n",
        "print(\"data min/max: \",data.min(),\"/\",data.max())      # get  min and max values of data array\n",
        "print(\"data > 3: \",data > 3)                           # keep values greater than 3\n",
        "print(\"data > max/2: \",data > data.max()/2)            # keep values greater than max/2\n",
        "print(\"data > max/2: \",data * (data > data.max()/2))   # original array *  previous array = put the values outside the condition to 0\n",
        "print(\"data > max/2: \",data [data > data.max()/2])     # only keep the values corresponding to the condition"
      ],
      "execution_count": 0,
      "outputs": []
    },
    {
      "cell_type": "markdown",
      "metadata": {
        "id": "E3ETB1JWJ9PT",
        "colab_type": "text"
      },
      "source": [
        "### Populating Arrays\n",
        "\n",
        "- To populate an array with a range of values we use the `np.arange()` function:"
      ]
    },
    {
      "cell_type": "code",
      "metadata": {
        "id": "yEnydM8wJ9PV",
        "colab_type": "code",
        "colab": {}
      },
      "source": [
        "x = np.arange(0, 10)\n",
        "x"
      ],
      "execution_count": 0,
      "outputs": []
    },
    {
      "cell_type": "markdown",
      "metadata": {
        "id": "6lzQPxREJ9Pb",
        "colab_type": "text"
      },
      "source": [
        "- We can also use floating point increments."
      ]
    },
    {
      "cell_type": "code",
      "metadata": {
        "id": "593AJJQTJ9Pc",
        "colab_type": "code",
        "colab": {}
      },
      "source": [
        "x = np.arange(0, 1, 0.1)\n",
        "x"
      ],
      "execution_count": 0,
      "outputs": []
    },
    {
      "cell_type": "markdown",
      "metadata": {
        "id": "oAADQcxAJ9Ph",
        "colab_type": "text"
      },
      "source": [
        "## The `matplotlib` module\n",
        "\n",
        "Matplotlib is a flexible library for creating graphs and visualization. "
      ]
    },
    {
      "cell_type": "markdown",
      "metadata": {
        "id": "kJuAE_VxJ9Pi",
        "colab_type": "text"
      },
      "source": [
        "### Basic Plotting\n",
        "\n",
        "- Plotting is not part of standard Python, but a nice package exist to create pretty graphics\n",
        "\n",
        "- We will use a module called `matplotlib` to plot some simple graphs.\n",
        "\n",
        "- This module provides functions which are very similar to MATLAB plotting commands.\n"
      ]
    },
    {
      "cell_type": "code",
      "metadata": {
        "id": "E5zrSOByJ9Pk",
        "colab_type": "code",
        "colab": {}
      },
      "source": [
        "import matplotlib.pyplot as plt # pyplot is a sub-module of matplotlb module\n",
        "\n",
        "plt.plot([1, 2, 4, 2]) # plot list [1,2, 4, 2] using x as index list 0..N-1"
      ],
      "execution_count": 0,
      "outputs": []
    },
    {
      "cell_type": "code",
      "metadata": {
        "id": "02aFcr-SJ9Pq",
        "colab_type": "code",
        "colab": {}
      },
      "source": [
        "plt.plot([1, 2, 3], [2, 4, 3])"
      ],
      "execution_count": 0,
      "outputs": []
    },
    {
      "cell_type": "code",
      "metadata": {
        "id": "8Hzq34vVJ9Pt",
        "colab_type": "code",
        "colab": {}
      },
      "source": [
        "plt.scatter([1, 2, 3, 4, 5, 6, 7, 8], [2, 4, 3, 12, 8, 5, 7, 9], marker='x', color='red')"
      ],
      "execution_count": 0,
      "outputs": []
    },
    {
      "cell_type": "code",
      "metadata": {
        "id": "X-hXgNuGJ9Pz",
        "colab_type": "code",
        "colab": {}
      },
      "source": [
        "y = x*2 + 5\n",
        "plt.plot(x, y) # plot x and y variables (both defined as arrays) using default line style and color"
      ],
      "execution_count": 0,
      "outputs": []
    },
    {
      "cell_type": "code",
      "metadata": {
        "id": "HSt1vInRJ9P2",
        "colab_type": "code",
        "colab": {}
      },
      "source": [
        "plt.plot(x, y,'--', linewidth=6, color='green')"
      ],
      "execution_count": 0,
      "outputs": []
    },
    {
      "cell_type": "code",
      "metadata": {
        "id": "c0lIovV0J9P7",
        "colab_type": "code",
        "colab": {}
      },
      "source": [
        "x = np.linspace(-4, 4, 5) # x is an array of 5 floats from -4 to +4\n",
        "print(x)"
      ],
      "execution_count": 0,
      "outputs": []
    },
    {
      "cell_type": "code",
      "metadata": {
        "id": "9_xapbmrJ9P_",
        "colab_type": "code",
        "colab": {}
      },
      "source": [
        "a = 1\n",
        "b = 1\n",
        "c = -6\n",
        "x = np.linspace(-4, 4, 100) # Use 100 x values from -4 to +4\n",
        "y = a * x ** 2 + b * x + c  # Compute y for all x values\n",
        "plt.plot(x, y)"
      ],
      "execution_count": 0,
      "outputs": []
    },
    {
      "cell_type": "markdown",
      "metadata": {
        "id": "WIjxLPQhJ9QD",
        "colab_type": "text"
      },
      "source": [
        "  ### New figure and figure size\n",
        "\n",
        "- Whenever we give a plotting statement in a code cell, a figure with a default size is automatically created.\n",
        "- All subsequent plotting statements in the code cell are added to the same figure. \n",
        "- If we want a different size of the figure, we can create a figure first with the desired figure size using the `plt.figure(figsize=(width, height))` syntax.\n",
        "- Any subsequent plotting statement in the code cell is then added to the figure. "
      ]
    },
    {
      "cell_type": "code",
      "metadata": {
        "scrolled": true,
        "id": "hJZsel5qJ9QG",
        "colab_type": "code",
        "colab": {}
      },
      "source": [
        "plt.figure(figsize=(10,3))\n",
        "plt.plot([1, 2, 3], [2, 4, 3], linewidth=6)\n",
        "plt.title('Very wide figure')\n",
        "plt.figure()  # new figure of default size\n",
        "plt.plot([1, 2, 3], [1, 3, 1], 'r')\n",
        "plt.title('Second figure')\n",
        "plt.savefig('Test.png') # only the second plot is saved"
      ],
      "execution_count": 0,
      "outputs": []
    },
    {
      "cell_type": "code",
      "metadata": {
        "scrolled": true,
        "id": "E4ZnkYcFJ9QJ",
        "colab_type": "code",
        "colab": {}
      },
      "source": [
        "plt.subplots(2,1,figsize=(7, 7))\n",
        "plt.subplot(2,1,1)\n",
        "plt.plot([1, 2, 3], [2, 4, 3], linewidth=6)\n",
        "plt.title('First figure')\n",
        "plt.subplot(2,1,2)\n",
        "plt.plot([1, 2, 3], [1, 3, 1], 'r')\n",
        "plt.title('Second figure')\n",
        "plt.savefig('Test2.png') # both plots are saved "
      ],
      "execution_count": 0,
      "outputs": []
    },
    {
      "cell_type": "markdown",
      "metadata": {
        "id": "q26sIFOfJ9QN",
        "colab_type": "text"
      },
      "source": [
        "### <a name=\"ex1\"></a> Exercise 1, First graph\n",
        "\n",
        "- Plot $y=(x+2)(x-1)(x-2)$ for $x$ going from $-3$ to $+3$ using a dashed red line.\n",
        "- On the same figure, plot a blue circle for every point where $y$ equals zero. \n",
        "- Set the size of the markers to 10 (you may need to read the help of `plt.plot` to find out how to do that). \n",
        "- Label the axes as 'x-axis' and 'y-axis'. \n",
        "- Add the title 'My first nice Python figure'."
      ]
    },
    {
      "cell_type": "code",
      "metadata": {
        "id": "YvQefswRJ9QP",
        "colab_type": "code",
        "colab": {}
      },
      "source": [
        ""
      ],
      "execution_count": 0,
      "outputs": []
    },
    {
      "cell_type": "markdown",
      "metadata": {
        "id": "F4MZBi8zJ9QS",
        "colab_type": "text"
      },
      "source": [
        "<a href=\"#ex1answer\">Answer to Exercise 1</a>"
      ]
    },
    {
      "cell_type": "markdown",
      "metadata": {
        "id": "XDREIQo1J9QT",
        "colab_type": "text"
      },
      "source": [
        "### Plotting a sine curve"
      ]
    },
    {
      "cell_type": "code",
      "metadata": {
        "id": "xc7oms20J9QU",
        "colab_type": "code",
        "colab": {}
      },
      "source": [
        "from numpy import pi, sin\n",
        "\n",
        "x = np.arange(0, 2*pi, 0.01)\n",
        "y = sin(x)\n",
        "plt.plot(x, y)"
      ],
      "execution_count": 0,
      "outputs": []
    },
    {
      "cell_type": "markdown",
      "metadata": {
        "id": "TGxTIUrTJ9QX",
        "colab_type": "text"
      },
      "source": [
        "### Plotting a histogram\n",
        "\n",
        "- We can use the `hist()` function in `matplotlib` to plot a histogram"
      ]
    },
    {
      "cell_type": "code",
      "metadata": {
        "id": "eY4S97YNJ9QY",
        "colab_type": "code",
        "colab": {}
      },
      "source": [
        "# Generate some random data\n",
        "data = np.random.randn(1000)\n",
        "\n",
        "ax = plt.hist(data)"
      ],
      "execution_count": 0,
      "outputs": []
    },
    {
      "cell_type": "markdown",
      "metadata": {
        "id": "5wRn5Q7IJ9Qc",
        "colab_type": "text"
      },
      "source": [
        "### Computing histograms as matrices\n",
        "\n",
        "- The function `histogram()` in the `numpy` module will count frequencies into bins and return the result as a 2-dimensional array."
      ]
    },
    {
      "cell_type": "code",
      "metadata": {
        "id": "UMDvP81lJ9Qd",
        "colab_type": "code",
        "colab": {}
      },
      "source": [
        "np.histogram(data)"
      ],
      "execution_count": 0,
      "outputs": []
    },
    {
      "cell_type": "markdown",
      "metadata": {
        "id": "ftk-VOtHJ9Qi",
        "colab_type": "text"
      },
      "source": [
        "### Loading data files\n",
        "\n",
        "- Numerical data can be loaded from a data file using the `loadtxt` function of `numpy`: `np.loadtxt`. \n",
        "- You need to make sure the file is in the same directory as your notebook, or provide the full path. \n",
        "- The filename (or path plus filename) needs to be between quotes. "
      ]
    },
    {
      "cell_type": "markdown",
      "metadata": {
        "id": "pZgFMV4hJ9Qj",
        "colab_type": "text"
      },
      "source": [
        "### <a name=\"ex2\"></a> Exercise 2, Loading data and adding a legend\n",
        "We are provided with the data files containing the mean montly temperature of Holland, New York City, and Beijing. The Dutch data is stored in `holland_temperature.dat`, and the other filenames are similar.\n",
        "\n",
        "- Plot the temperature for each location against the number of the month (starting with 1 for January) all in a single graph. \n",
        "- Add a legend by using the function `plt.legend(['line1','line2'])`, etc., but then with more descriptive names. \n",
        "- Find out about the `legend` command using `plt.legend?`. \n",
        "- Place the legend in an appropriate spot (the upper left-hand corner may be nice, or let Python figure out the best place). "
      ]
    },
    {
      "cell_type": "code",
      "metadata": {
        "id": "i2GMzTcDJ9Qk",
        "colab_type": "code",
        "colab": {}
      },
      "source": [
        "# retrive data files locally\n",
        "!wget https://davidsarrut.pages.in2p3.fr/learn_python/data/holland_temperature.dat\n",
        "!wget https://davidsarrut.pages.in2p3.fr/learn_python/data/beijing_temperature.dat\n",
        "!wget https://davidsarrut.pages.in2p3.fr/learn_python/data/holland_seawater.dat\n",
        "!wget https://davidsarrut.pages.in2p3.fr/learn_python/data/newyork_temperature.dat\n",
        "!ls"
      ],
      "execution_count": 0,
      "outputs": []
    },
    {
      "cell_type": "code",
      "metadata": {
        "id": "3vkrgdF3J9Qn",
        "colab_type": "code",
        "colab": {}
      },
      "source": [
        ""
      ],
      "execution_count": 0,
      "outputs": []
    },
    {
      "cell_type": "markdown",
      "metadata": {
        "id": "BDmN-PvfJ9Qq",
        "colab_type": "text"
      },
      "source": [
        "<a href=\"#ex2answer\">Answer to Exercise 2</a>"
      ]
    },
    {
      "cell_type": "markdown",
      "metadata": {
        "id": "QrlQreWrJ9Qs",
        "colab_type": "text"
      },
      "source": [
        "### <a name=\"ex3\"></a> Exercise 3, Subplots and fancy tick markers\n",
        "\n",
        "- Load the average monthly air temperature and seawater temperature for Holland.\n",
        "- Create one plot with two graphs above each other using the subplot command (use `plt.subplot?` to find out how).\n",
        "- On the top graph, plot the air and sea temperature. Label the ticks on the horizontal axis as 'jan', 'feb', 'mar', etc., rather than 0,1,2,etc. Use `plt.xticks?` to find out how. \n",
        "- In the bottom graph, plot the difference between the air and seawater temperature. \n",
        "- Add legends, axes labels, the whole shebang."
      ]
    },
    {
      "cell_type": "code",
      "metadata": {
        "id": "cof1KnCyJ9Qt",
        "colab_type": "code",
        "colab": {}
      },
      "source": [
        ""
      ],
      "execution_count": 0,
      "outputs": []
    },
    {
      "cell_type": "markdown",
      "metadata": {
        "id": "t4PArMjTJ9Qv",
        "colab_type": "text"
      },
      "source": [
        "<a href=\"#ex3answer\">Answer to Exercise 3</a>"
      ]
    },
    {
      "cell_type": "markdown",
      "metadata": {
        "id": "zgm63ZUhJ9Qx",
        "colab_type": "text"
      },
      "source": [
        "### Answers for the exercises"
      ]
    },
    {
      "cell_type": "markdown",
      "metadata": {
        "id": "A-nXZDxaJ9Qx",
        "colab_type": "text"
      },
      "source": [
        "<a name=\"ex1answer\">Answer to Exercise 1</a>"
      ]
    },
    {
      "cell_type": "code",
      "metadata": {
        "id": "kZc8TbOyJ9Qy",
        "colab_type": "code",
        "colab": {}
      },
      "source": [
        "x = np.linspace(-3, 3, 100)\n",
        "y = (x + 2) * (x - 1) * (x - 2)\n",
        "plt.plot(x, y, 'r--')\n",
        "plt.plot([-2, 1, 2], [0, 0, 0], 'bo', markersize=10)\n",
        "plt.xlabel('x-axis')\n",
        "plt.ylabel('y-axis')\n",
        "plt.title('First Python Figure of Mark Bakker')"
      ],
      "execution_count": 0,
      "outputs": []
    },
    {
      "cell_type": "markdown",
      "metadata": {
        "id": "LAudaDXFJ9Q2",
        "colab_type": "text"
      },
      "source": [
        "<a href=\"#ex1\">Back to Exercise 1</a>\n",
        "\n",
        "<a name=\"ex2answer\">Answer to Exercise 2</a>"
      ]
    },
    {
      "cell_type": "code",
      "metadata": {
        "id": "FR_KNUFdJ9Q3",
        "colab_type": "code",
        "colab": {}
      },
      "source": [
        "holland = np.loadtxt('holland_temperature.dat')\n",
        "newyork= np.loadtxt('newyork_temperature.dat')\n",
        "beijing = np.loadtxt('beijing_temperature.dat')\n",
        "plt.plot(np.linspace(1, 12, 12), holland)\n",
        "plt.plot(np.linspace(1, 12, 12), newyork)\n",
        "plt.plot(np.linspace(1, 12, 12), beijing)\n",
        "plt.xlabel('Number of the month')\n",
        "plt.ylabel('Mean monthly temperature (Celcius)')\n",
        "plt.xticks(np.linspace(1, 12, 12))\n",
        "plt.legend(['Holland','New York','Beijing'], loc='best');"
      ],
      "execution_count": 0,
      "outputs": []
    },
    {
      "cell_type": "markdown",
      "metadata": {
        "id": "RyahnUQzJ9Q6",
        "colab_type": "text"
      },
      "source": [
        "<a href=\"#ex2\">Back to Exercise 2</a>\n",
        "\n",
        "<a name=\"ex3answer\">Answer to Exercise 3</a>"
      ]
    },
    {
      "cell_type": "code",
      "metadata": {
        "id": "xuAmBXB7J9Q7",
        "colab_type": "code",
        "colab": {}
      },
      "source": [
        "air = np.loadtxt('holland_temperature.dat') \n",
        "sea = np.loadtxt('holland_seawater.dat')\n",
        "plt.subplot(211)\n",
        "plt.plot(air, 'b', label='air temp')\n",
        "plt.plot(sea, 'r', label='sea temp')\n",
        "plt.legend(loc='best')\n",
        "plt.ylabel('temp (Celcius)')\n",
        "plt.xlim(0, 11)\n",
        "plt.xticks([])\n",
        "plt.subplot(212)\n",
        "plt.plot(air-sea, 'ko')\n",
        "plt.xticks(np.linspace(0, 11, 12),\n",
        "           ['jan','feb','mar','apr','may','jun','jul','aug','sep','oct','nov','dec'])\n",
        "plt.xlim(0, 11)\n",
        "plt.ylabel('air - sea temp (Celcius)');"
      ],
      "execution_count": 0,
      "outputs": []
    },
    {
      "cell_type": "markdown",
      "metadata": {
        "id": "7x3ijOSNJ9Q-",
        "colab_type": "text"
      },
      "source": [
        "<a href=\"#ex3\">Back to Exercise 3</a>"
      ]
    },
    {
      "cell_type": "code",
      "metadata": {
        "id": "QouFGg0rJ9Q_",
        "colab_type": "code",
        "colab": {}
      },
      "source": [
        ""
      ],
      "execution_count": 0,
      "outputs": []
    }
  ]
}