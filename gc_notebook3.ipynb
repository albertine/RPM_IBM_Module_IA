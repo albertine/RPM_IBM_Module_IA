{
  "nbformat": 4,
  "nbformat_minor": 0,
  "metadata": {
    "kernelspec": {
      "display_name": "Python 3",
      "language": "python",
      "name": "python3"
    },
    "language_info": {
      "codemirror_mode": {
        "name": "ipython",
        "version": 3
      },
      "file_extension": ".py",
      "mimetype": "text/x-python",
      "name": "python",
      "nbconvert_exporter": "python",
      "pygments_lexer": "ipython3",
      "version": "3.5.2"
    },
    "colab": {
      "name": "notebook3.ipynb",
      "provenance": [],
      "collapsed_sections": [],
      "toc_visible": true
    }
  },
  "cells": [
    {
      "cell_type": "markdown",
      "metadata": {
        "id": "w7m6DEnpwbWW",
        "colab_type": "text"
      },
      "source": [
        "# Notebook 3: Handling DICOM format"
      ]
    },
    {
      "cell_type": "markdown",
      "metadata": {
        "id": "jiigyRA6wbWY",
        "colab_type": "text"
      },
      "source": [
        "Images stored in the DICOM format have a meta-data dictionary associated with them, which is populated with the DICOM tags. \n",
        "\n",
        "When a DICOM series is read as a single image, the meta-data information is not available since DICOM tags are specific to each file. \n",
        "\n",
        "If you need the meta-data, you have three options:\n",
        "\n",
        "1. Using the object oriented interface's [ImageSeriesReader](https://itk.org/SimpleITKDoxygen/html/classitk_1_1simple_1_1ImageSeriesReader.html) class, configure it to load the tags using the `MetaDataDictionaryArrayUpdateOn` method and possibly the `LoadPrivateTagsOn` method if you need the private tags. Once the series is read you can access the meta-data from the series reader using the `GetMetaDataKeys`, `HasMetaDataKey`, and `GetMetaData`.\n",
        "\n",
        "2. Using the object oriented interface's [ImageFileReader](https://itk.org/SimpleITKDoxygen/html/classitk_1_1simple_1_1ImageFileReader.html), set a specific slice's file name and only read it's meta-data using the `ReadImageInformation` method which only reads the meta-data but not the bulk pixel information. Once the meta-data is read you can access it from the file reader using the `GetMetaDataKeys`, `HasMetaDataKey`, and `GetMetaData`.\n",
        "\n",
        "3. Using the object oriented interface's [ImageFileReader](https://itk.org/SimpleITKDoxygen/html/classitk_1_1simple_1_1ImageFileReader.html), set a specific slice's file name and read it. Or using the procedural interface's, [ReadImage](https://itk.org/SimpleITKDoxygen/html/namespaceitk_1_1simple.html#ae3b678b5b043c5a8c93aa616d5ee574c) function, read a specific file. You can then access the meta-data directly from the [Image](https://itk.org/SimpleITKDoxygen/html/classitk_1_1simple_1_1Image.html) using the `GetMetaDataKeys`, `HasMetaDataKey`, and `GetMetaData`."
      ]
    },
    {
      "cell_type": "code",
      "metadata": {
        "id": "NLLt81LaNABw",
        "colab_type": "code",
        "colab": {}
      },
      "source": [
        "!git clone https://github.com/albertine/RPM_IBM_Module_IA.git"
      ],
      "execution_count": 0,
      "outputs": []
    },
    {
      "cell_type": "markdown",
      "metadata": {
        "id": "3OUX_zlzwbWZ",
        "colab_type": "text"
      },
      "source": [
        "## 1. First method to load DICOM images\n",
        "In the following cells, we read DICOM series, display them and write them as a single file (mha or nii)"
      ]
    },
    {
      "cell_type": "code",
      "metadata": {
        "id": "eiMLMG55wbWa",
        "colab_type": "code",
        "colab": {}
      },
      "source": [
        "# Import required packages\n",
        "import numpy as np\n",
        "import matplotlib.pyplot as plt\n",
        "import os\n",
        "\n",
        "# Install and import SimpleITK\n",
        "!pip install --upgrade SimpleITK\n",
        "import SimpleITK as sitk\n",
        "\n",
        "# Import some interactive IPython widgets\n",
        "# The interact function (ipywidgets.interact) automatically creates user interface (UI) controls for exploring code and data interactively.\n",
        "from ipywidgets import interact, interactive, fixed\n",
        "\n",
        "# Define current working directory\n",
        "PWD_DIR = os.getcwd()\n",
        "# Define output data directory\n",
        "OUTPUT_DIR = os.path.join(PWD_DIR,'output')\n",
        "# If it doesn't exist, create it\n",
        "if not os.path.exists(OUTPUT_DIR):\n",
        "    os.makedirs(OUTPUT_DIR)"
      ],
      "execution_count": 0,
      "outputs": []
    },
    {
      "cell_type": "code",
      "metadata": {
        "id": "HQUZlQXxwbWe",
        "colab_type": "code",
        "colab": {}
      },
      "source": [
        "# Define DICOM data directory\n",
        "#data_dcm_directory = '/content/drive/My Drive/data/patient2/'\n",
        "data_dcm_directory = '/content/RPM_IBM_Module_IA/data/patient2/'\n",
        "print(\"Path to DICOM data directory:\",data_dcm_directory)\n",
        "\n",
        "# Provide a file name that belongs to the DICOM CT series you want to read\n",
        "!ls '/content/RPM_IBM_Module_IA/data/patient2/'\n",
        "file_name_ct='/content/RPM_IBM_Module_IA/data/patient2/Patient2.CT._.4.1.2019.11.21.11.52.34.596.71223801.dcm'\n",
        "\n",
        "# Read the file's meta-information without reading bulk pixel data\n",
        "file_reader_ct=sitk.ImageFileReader()\n",
        "file_reader_ct.SetFileName(file_name_ct)\n",
        "file_reader_ct.ReadImageInformation()\n",
        "\n",
        "# Get the sorted file names, open all files in the directory and read the meta-information without reading the bulk pixel data\n",
        "series_ID_ct=file_reader_ct.GetMetaData('0020|000e')\n",
        "sorted_file_names_ct=sitk.ImageSeriesReader.GetGDCMSeriesFileNames(data_dcm_directory,series_ID_ct)\n",
        "print(\"Series ID corresponding to CT data:\",series_ID_ct)\n",
        "\n",
        "# Provide a file name that belongs to the DICOM PET series you want to read\n",
        "file_name_pet='/content/RPM_IBM_Module_IA/data/patient2/Patient2.PT._.3.144.2019.11.21.11.52.34.596.71220765.dcm'\n",
        "# Read the file's meta-information without reading bulk pixel data\n",
        "file_reader_pet=sitk.ImageFileReader()\n",
        "file_reader_pet.SetFileName(file_name_pet)\n",
        "file_reader_pet.ReadImageInformation()\n",
        "\n",
        "# Get the sorted file names, open all files in teh directory and read the meta-information without reading the bulk pixel data\n",
        "series_ID_pet=file_reader_pet.GetMetaData('0020|000e')\n",
        "sorted_file_names_pet=sitk.ImageSeriesReader.GetGDCMSeriesFileNames(data_dcm_directory,series_ID_pet)\n",
        "print(\"Series ID corresponding to PET data:\",series_ID_pet)"
      ],
      "execution_count": 0,
      "outputs": []
    },
    {
      "cell_type": "code",
      "metadata": {
        "id": "KhynQw6PwbWi",
        "colab_type": "code",
        "colab": {}
      },
      "source": [
        "# Read DICOM CT and PET images and convert them to NumPy arrays\n",
        "# Access to their attributes (size, origin and spacing)\n",
        "img_ct=sitk.ReadImage(sorted_file_names_ct)\n",
        "nimg_ct = sitk.GetArrayFromImage(img_ct)\n",
        "print('Array CT size: ', nimg_ct.shape)\n",
        "print('Image CT origin: ', img_ct.GetOrigin())\n",
        "print('Image CT spacing: ', img_ct.GetSpacing(),'\\n')\n",
        "\n",
        "img_pet=sitk.ReadImage(sorted_file_names_pet)\n",
        "nimg_pet = sitk.GetArrayFromImage(img_pet)\n",
        "print('Array PET size: ', nimg_pet.shape)\n",
        "print('Image PET origin: ', img_pet.GetOrigin())\n",
        "print('Image PET spacing: ', img_pet.GetSpacing())"
      ],
      "execution_count": 0,
      "outputs": []
    },
    {
      "cell_type": "code",
      "metadata": {
        "id": "HvQJIzVXwbWm",
        "colab_type": "code",
        "colab": {}
      },
      "source": [
        "# Read the bulk pixel data and write them as a single 3D nii or mha file\n",
        "output_file_name_3D_ct = os.path.join(OUTPUT_DIR, '3DImageCT.nii') #'3DImageCT.mha'\n",
        "sitk.WriteImage(img_ct, output_file_name_3D_ct)\n",
        "output_file_name_3D_pet = os.path.join(OUTPUT_DIR, '3DImagePET.nii') #'3DImagePET.mha'\n",
        "sitk.WriteImage(img_pet, output_file_name_3D_pet)"
      ],
      "execution_count": 0,
      "outputs": []
    },
    {
      "cell_type": "markdown",
      "metadata": {
        "id": "oi9rhs2cwbWo",
        "colab_type": "text"
      },
      "source": [
        "## 2. DICOM image display"
      ]
    },
    {
      "cell_type": "markdown",
      "metadata": {
        "id": "63dijj1QaGAA",
        "colab_type": "text"
      },
      "source": [
        "### Using matplotlib and interact function\n",
        "\n",
        "By converting into a NumPy array, matplotlib can be used for visualization for integration into the scientific Python environment. \n",
        "\n",
        "This is good for illustrative purposes, but is problematic when working with images that have a high dynamic range or non-isotropic spacing - most 3D medical images."
      ]
    },
    {
      "cell_type": "code",
      "metadata": {
        "id": "YgbxmozHwbWp",
        "colab_type": "code",
        "colab": {}
      },
      "source": [
        "# Home-made function to show a 3D image in three views\n",
        "def show_image(arr,sx,sy,sz):\n",
        "    fig, ax = plt.subplots(1,3, figsize=(10, 10))\n",
        "    ax[0].imshow(arr[sz,:,:], cmap=plt.cm.gray)\n",
        "    ax[1].imshow(arr[:,sx,:], cmap=plt.cm.gray, origin='lower')\n",
        "    ax[2].imshow(arr[:,:,sy], cmap=plt.cm.gray, origin='lower')"
      ],
      "execution_count": 0,
      "outputs": []
    },
    {
      "cell_type": "code",
      "metadata": {
        "id": "CI1JY4TTwbWs",
        "colab_type": "code",
        "colab": {}
      },
      "source": [
        "# View CT\n",
        "interact(show_image, arr=fixed(nimg_ct), sx=(0,img_ct.GetSize()[0]), sy=(0,img_ct.GetSize()[2]), sz=(0,img_ct.GetSize()[1]));"
      ],
      "execution_count": 0,
      "outputs": []
    },
    {
      "cell_type": "code",
      "metadata": {
        "scrolled": true,
        "id": "5_dZoTJFwbWv",
        "colab_type": "code",
        "colab": {}
      },
      "source": [
        "# View PET\n",
        "interact(show_image, arr=fixed(nimg_pet), sx=(0,img_pet.GetSize()[0]), sy=(0,img_pet.GetSize()[1]), sz=(0,img_pet.GetSize()[2]));"
      ],
      "execution_count": 0,
      "outputs": []
    },
    {
      "cell_type": "code",
      "metadata": {
        "id": "mp1fpYWHwbWy",
        "colab_type": "code",
        "colab": {}
      },
      "source": [
        "# Home-made function to overlay two 3D images from different modality imaging (here, CT and PET)\n",
        "def show_fusion(arr, nslice, opacity=0.7 ):\n",
        "    plt.imshow(nimg_pet[nslice,:,:], cmap=plt.cm.hot)\n",
        "    plt.colorbar()\n",
        "    a = arr[nslice,:,:]\n",
        "    plt.imshow(a, alpha=opacity, cmap=plt.cm.gray)\n",
        "    plt.colorbar()"
      ],
      "execution_count": 0,
      "outputs": []
    },
    {
      "cell_type": "code",
      "metadata": {
        "id": "ldBQI_LHwbW1",
        "colab_type": "code",
        "colab": {}
      },
      "source": [
        "# View overlaid CT and PET images\n",
        "interact(show_fusion, arr=fixed(nimg_ct), nslice=(0,len(nimg_pet)), opacity=(0,1,0.1));"
      ],
      "execution_count": 0,
      "outputs": []
    },
    {
      "cell_type": "code",
      "metadata": {
        "id": "kIZcFtBjwbW4",
        "colab_type": "code",
        "colab": {}
      },
      "source": [
        "# Assuming these two images are already registered, we can resample the CT volume according to the origin, spacing and dimensions of the PET volume.\n",
        "# Hence, we preserve their individual locations as each has a different origin, spacing and orientation in the same space.\n",
        "img_resampled_ct = sitk.Resample(img_ct, img_pet, sitk.Transform(), sitk.sitkLinear, 0)\n",
        "nimg_resampled_ct = sitk.GetArrayFromImage(img_resampled_ct)\n",
        "output_file_name_3D_resampled_ct = os.path.join(OUTPUT_DIR, '3DImageResampledCT.nii')\n",
        "sitk.WriteImage(img_resampled_ct, output_file_name_3D_resampled_ct)"
      ],
      "execution_count": 0,
      "outputs": []
    },
    {
      "cell_type": "code",
      "metadata": {
        "id": "hBkbA0JzwbW6",
        "colab_type": "code",
        "colab": {}
      },
      "source": [
        "# View overlaid CT and PET images after having resampled CT\n",
        "interact(show_fusion, arr=fixed(nimg_resampled_ct), nslice=(0,len(nimg_pet)), opacity=(0,1,0.1));"
      ],
      "execution_count": 0,
      "outputs": []
    },
    {
      "cell_type": "markdown",
      "metadata": {
        "id": "whIjvqIRwbW9",
        "colab_type": "text"
      },
      "source": [
        "### Using SimpleITK\n",
        "\n",
        "When working with medical images it is recommended to visualize them using dedicated software such as the freely available 3D Slicer or ITK-SNAP.\n",
        "\n",
        "While SimpleITK does not do visualization, it does contain a built in <code>Show</code> method. This function writes the image out to disk and than launches a program for visualization. By default it is configured to use ImageJ, because it readily supports many medical image formats and loads quickly. However, the Show visualization program is easily customizable by an environment variable:\n",
        "\n",
        "* <code>SITK_SHOW_COMMAND</code>: Viewer to use (ITK-SNAP, 3D Slicer...)\n",
        "* <code>SITK_SHOW_COLOR_COMMAND</code>: Viewer to use when displaying color images.\n",
        "* <code>SITK_SHOW_3D_COMMAND</code>: Viewer to use for 3D images.\n",
        "\n",
        "\n",
        "So if you really want to look at your images, use the <code>sitk.Show</code> command:"
      ]
    },
    {
      "cell_type": "code",
      "metadata": {
        "id": "x9MVFEc2pDow",
        "colab_type": "code",
        "colab": {}
      },
      "source": [
        "sitk.Show?"
      ],
      "execution_count": 0,
      "outputs": []
    },
    {
      "cell_type": "code",
      "metadata": {
        "id": "HC17UNfzwbW-",
        "colab_type": "code",
        "colab": {}
      },
      "source": [
        "%env SITK_SHOW_COMMAND \"/volatile/home/DUBOIS/Info/Logiciels/Fiji.app/ImageJ-linux64\"\n",
        "\n",
        "try:\n",
        "    sitk.Show(img_pet)\n",
        "except RuntimeError:\n",
        "    print('SimpleITK Show method could not find the viewer (ImageJ not installed or ' +\n",
        "          'environment variable pointing to non existant viewer).')"
      ],
      "execution_count": 0,
      "outputs": []
    },
    {
      "cell_type": "markdown",
      "metadata": {
        "id": "J1Hf_ZigwbXA",
        "colab_type": "text"
      },
      "source": [
        "Use a different viewer by setting environment variable(s). Do this from within your Jupyter notebook using 'magic' functions, or set in a more permanent manner using your OS specific convention."
      ]
    },
    {
      "cell_type": "code",
      "metadata": {
        "id": "ZoUV34U2wbXC",
        "colab_type": "code",
        "colab": {}
      },
      "source": [
        "%env SITK_SHOW_COMMAND \"/volatile/home/DUBOIS/Info/Logiciels/itksnap-3.6.0-20170401-Linux-x86_64/bin/itksnap\"\n",
        "\n",
        "pet_image = sitk.ReadImage(output_file_name_3D_pet)\n",
        "try:\n",
        "    sitk.Show(pet_image)\n",
        "except RuntimeError:\n",
        "    print('SimpleITK Show method could not find the viewer (ITK-SNAP not installed or ' +\n",
        "          'environment variable pointing to non existant viewer).')"
      ],
      "execution_count": 0,
      "outputs": []
    },
    {
      "cell_type": "code",
      "metadata": {
        "id": "H66G5_gNpZ60",
        "colab_type": "code",
        "colab": {}
      },
      "source": [
        "%env SITK_SHOW_COMMAND \"/volatile/home/DUBOIS/Info/Logiciels/Slicer-4.10.2-linux-amd64/Slicer\"\n",
        "\n",
        "pet_image = sitk.ReadImage(output_file_name_3D_pet)\n",
        "try:\n",
        "    sitk.Show(pet_image)\n",
        "except RuntimeError:\n",
        "    print('SimpleITK Show method could not find the viewer (Slicer not installed or ' +\n",
        "          'environment variable pointing to non existant viewer).')"
      ],
      "execution_count": 0,
      "outputs": []
    },
    {
      "cell_type": "markdown",
      "metadata": {
        "id": "PaecJ5cIwbXF",
        "colab_type": "text"
      },
      "source": [
        "## 3. Second method to load DICOM images\n",
        "Now, we select a specific DICOM series from a directory and only then load our selection"
      ]
    },
    {
      "cell_type": "code",
      "metadata": {
        "id": "mL3bk7l5wbXF",
        "colab_type": "code",
        "colab": {}
      },
      "source": [
        "data_dcm_directory = '/content/RPM_IBM_Module_IA/data/patient2/'\n",
        "print(\"Path to DICOM data directory:\",data_dcm_directory)\n",
        "\n",
        "# Global variable 'selected_series' is updated by the interact function\n",
        "selected_series = ''\n",
        "file_reader = sitk.ImageFileReader()\n",
        "def DICOM_series_dropdown_callback(series_to_load, series_dictionary):\n",
        "    global selected_series\n",
        "               # Print some information about the series from the meta-data dictionary\n",
        "               # DICOM standard part 6, Data Dictionary: http://medical.nema.org/medical/dicom/current/output/pdf/part06.pdf\n",
        "    file_reader.SetFileName(series_dictionary[series_to_load][0])\n",
        "    file_reader.ReadImageInformation()\n",
        "    tags_to_print = {'0010|0010': 'Patient name: ', \n",
        "                     '0008|0060' : 'Modality: ',\n",
        "                     '0008|0021' : 'Series date: ',\n",
        "                     '0008|0080' : 'Institution name: '}\n",
        "    for tag in tags_to_print:\n",
        "        try:\n",
        "            print(tags_to_print[tag] + file_reader.GetMetaData(tag))\n",
        "        except: # Ignore if the tag isn't in the dictionary\n",
        "            pass\n",
        "    selected_series = series_to_load\n",
        "\n",
        "    \n",
        "# Directory contains multiple DICOM studies/series, store\n",
        "             # in dictionary with key being the series ID\n",
        "reader = sitk.ImageSeriesReader()\n",
        "series_file_names = {}  \n",
        "series_IDs = reader.GetGDCMSeriesIDs(data_dcm_directory)"
      ],
      "execution_count": 0,
      "outputs": []
    },
    {
      "cell_type": "code",
      "metadata": {
        "id": "XFfZEvsfwbXI",
        "colab_type": "code",
        "colab": {}
      },
      "source": [
        "# Display both modality imaging side by side\n",
        "cpt=0\n",
        "# Check that we have at least one series\n",
        "if series_IDs:\n",
        "    for series in series_IDs:\n",
        "        print('Series ID:', series)\n",
        "        series_file_names[series] = reader.GetGDCMSeriesFileNames(data_dcm_directory, series)\n",
        "        interactive(DICOM_series_dropdown_callback, series_to_load=series, series_dictionary=fixed(series_file_names));\n",
        "        reader.SetFileNames(series_file_names[series])\n",
        "        reader.MetaDataDictionaryArrayUpdateOn()\n",
        "        reader.LoadPrivateTagsOn()\n",
        "        img = reader.Execute()\n",
        "        modality=reader.GetMetaData(2,'0008|0060')\n",
        "        print('Modality:',modality)\n",
        "        # Display the image slice from the middle of the stack, z axis\n",
        "        z = int(img.GetDepth()/2)\n",
        "        plt.subplot(1,2,cpt+1)\n",
        "        plt.imshow(sitk.GetArrayViewFromImage(img)[z,:,:], cmap=plt.cm.Greys_r)\n",
        "        plt.title('Modality: ' + modality)\n",
        "        plt.axis('off');\n",
        "        cpt+=1\n",
        "else:\n",
        "    print('Data directory does not contain any DICOM series.')"
      ],
      "execution_count": 0,
      "outputs": []
    },
    {
      "cell_type": "code",
      "metadata": {
        "id": "qq1ihA44M8pf",
        "colab_type": "code",
        "colab": {}
      },
      "source": [
        ""
      ],
      "execution_count": 0,
      "outputs": []
    }
  ]
}